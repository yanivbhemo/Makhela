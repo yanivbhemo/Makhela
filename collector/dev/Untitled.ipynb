{
 "cells": [
  {
   "cell_type": "code",
   "execution_count": 1,
   "metadata": {},
   "outputs": [],
   "source": [
    "import requests\n",
    "from bs4 import BeautifulSoup\n",
    "import tweepy\n",
    "import pprint"
   ]
  },
  {
   "cell_type": "code",
   "execution_count": 2,
   "metadata": {},
   "outputs": [],
   "source": [
    "## Twitter connection ##\n",
    "consumer_key = \"uPVsXcMAIZLfYtOdJ6J3aapIG\"\n",
    "consumer_secret = \"fAWhsif5q0Ik9JN9ecC3nrt4QoqA97Sp3lRb4HUfneFWBqRnns\"\n",
    "access_token = \"1231936499211436033-pQMSATHOb59HIoTXjokGuHHcFeQM6Q\"\n",
    "access_token_secret = \"pihXjLyc60oFfGXWenB48a3gg3ltt4TA3554inElnVUEY\"\n",
    "auth = tweepy.OAuthHandler(consumer_key, consumer_secret)\n",
    "auth.set_access_token(access_token, access_token_secret)\n",
    "api = tweepy.API(auth)"
   ]
  },
  {
   "cell_type": "code",
   "execution_count": null,
   "metadata": {},
   "outputs": [],
   "source": [
    "page = requests.get(url)\n",
    "soup = BeautifulSoup(page.text, 'html.parser')"
   ]
  },
  {
   "cell_type": "code",
   "execution_count": 22,
   "metadata": {},
   "outputs": [
    {
     "name": "stdout",
     "output_type": "stream",
     "text": [
      "162\n"
     ]
    },
    {
     "ename": "AttributeError",
     "evalue": "'Status' object has no attribute 'retweeted_status'",
     "output_type": "error",
     "traceback": [
      "\u001b[1;31m---------------------------------------------------------------------------\u001b[0m",
      "\u001b[1;31mAttributeError\u001b[0m                            Traceback (most recent call last)",
      "\u001b[1;32m<ipython-input-22-500f3101aedf>\u001b[0m in \u001b[0;36m<module>\u001b[1;34m\u001b[0m\n\u001b[0;32m      2\u001b[0m \u001b[1;32mfor\u001b[0m \u001b[0mitem\u001b[0m \u001b[1;32min\u001b[0m \u001b[0mresult\u001b[0m\u001b[1;33m:\u001b[0m\u001b[1;33m\u001b[0m\u001b[0m\n\u001b[0;32m      3\u001b[0m \u001b[1;31m#print(result.retweeted_status)\u001b[0m\u001b[1;33m\u001b[0m\u001b[1;33m\u001b[0m\u001b[0m\n\u001b[1;32m----> 4\u001b[1;33m     \u001b[0mprint\u001b[0m\u001b[1;33m(\u001b[0m\u001b[0mitem\u001b[0m\u001b[1;33m.\u001b[0m\u001b[0mretweeted_status\u001b[0m\u001b[1;33m.\u001b[0m\u001b[0mfavorite_count\u001b[0m\u001b[1;33m)\u001b[0m\u001b[1;33m\u001b[0m\u001b[0m\n\u001b[0m",
      "\u001b[1;31mAttributeError\u001b[0m: 'Status' object has no attribute 'retweeted_status'"
     ]
    }
   ],
   "source": [
    "result = api.user_timeline(id=2696666707, tweet_mode=\"extended\", count=2)\n",
    "for item in result:\n",
    "#print(result.retweeted_status)\n",
    "    print(item.retweeted_status.favorite_count)"
   ]
  },
  {
   "cell_type": "code",
   "execution_count": 18,
   "metadata": {},
   "outputs": [
    {
     "name": "stdout",
     "output_type": "stream",
     "text": [
      "RT @test: \n"
     ]
    }
   ],
   "source": [
    "text = \"RT @test: aaaa\"\n",
    "print(text[0:text.find(':')+2])"
   ]
  },
  {
   "cell_type": "code",
   "execution_count": 27,
   "metadata": {},
   "outputs": [
    {
     "name": "stdout",
     "output_type": "stream",
     "text": [
      "test\n"
     ]
    }
   ],
   "source": [
    "required_id = {'id': 2696666707, 'level_of_certainty': 2}\n",
    "if required_id['id'] == 2696666707:\n",
    "    print(\"test\")"
   ]
  },
  {
   "cell_type": "code",
   "execution_count": 36,
   "metadata": {},
   "outputs": [
    {
     "name": "stdout",
     "output_type": "stream",
     "text": [
      "63\n",
      "70\n"
     ]
    }
   ],
   "source": [
    "text = \"http://pbs.twimg.com/profile_images/494962622597300224/QeFwiaKH_normal.jpeg\"\n",
    "print(text.find(\"_normal.jpeg\"))\n",
    "print(text.find('.jpeg'))"
   ]
  },
  {
   "cell_type": "code",
   "execution_count": 35,
   "metadata": {},
   "outputs": [
    {
     "name": "stdout",
     "output_type": "stream",
     "text": [
      "http://pbs.twimg.com/profile_images/494962622597300224/QeFwiaKH_400x400.jpeg\n"
     ]
    }
   ],
   "source": [
    "new_text = text[0:63]+\"_400x400\"+text[70:len(text)]\n",
    "print(new_text)"
   ]
  },
  {
   "cell_type": "code",
   "execution_count": 11,
   "metadata": {},
   "outputs": [
    {
     "name": "stdout",
     "output_type": "stream",
     "text": [
      "RT @davidakaye: govt disinfo is bad for public health. i would also strongly encourage everyone not to retweet COVID-19 posts before checki…\n",
      "RT\n",
      "@NYTBen Nice timing!\n",
      "@N\n",
      "This is as concerning as the crisis itself. Viruses do not discriminate based on political party. https://t.co/LzEAOiM4iM\n",
      "Th\n",
      "RT @MaloneySuzanne: She's back! And every bit as brilliant &amp; straightforward as during the impeachment hearings. Tune into @BrookingsFP's F…\n",
      "RT\n",
      "@michaeltanchum Yep, this applies globally. The need for truth, data and transparency as well.\n",
      "@m\n",
      "Not surprising that countries in MENA region with poor governance and multiple domestic and regional crises may not be able to contain #CoronaVirusChallenge and are now focused on mitigation. https://t.co/xCOHRuFpLl\n",
      "No\n",
      "RT @ProfessorKaren: A further isolated and weakened Iran will likely lead to one outcome: political collapse and emboldening of hardliners/…\n",
      "RT\n",
      "RT @NazaninBoniadi: Coronavirus: Iran temporarily frees 54,000 prisoners to combat spread. The US, UK &amp; other govs with citizens being held…\n",
      "RT\n",
      "@YasFarouk These kinds of laws usually have a chilling effect on legitimate sharing of information. Hard to see how Saudi would be exception.\n",
      "@Y\n",
      "@hrome2 Not a remarkable US response if administration: 1. finds Iranian nuclear violations as helpful to doubling down on max pressure or 2. sees value in downplaying current Iranian nuclear activities b/c they challenge notion Trump Iran policy is working.\n",
      "@h\n",
      "Thread. https://t.co/EE8iumrn2h\n",
      "Th\n",
      "This is more likely than not to limit the sharing of helpful news about containing spread of #coronavirusmena https://t.co/ah6sOUxpbl\n",
      "Th\n",
      "RT @NeriZilber: Israel heads to the polls for 3rd time in a year. Most expecting continued deadlock. But more likely than 4th election is a…\n",
      "RT\n",
      "Socioeconomic challenges and gaps in Israel are critical but often ignored. Good to see these issues covered in @nytimes; they are also the priority areas for @RANDCorporation Israel Program: https://t.co/reE2oLBoXy https://t.co/JXqhAf9sme\n",
      "So\n",
      "RT @JeremyKonyndyk: WHERE. ARE. THE. WOMEN.\n",
      "RT\n",
      "Horrible. https://t.co/wARGpNyhRT\n",
      "Ho\n",
      "RT @Farid_Senzai: #BREAKING: A 65-year-old resident of Santa Clara County, California, who has no known history of travel to countries hit…\n",
      "RT\n",
      "RT @davidakaye: i endorse &amp; urge the sharing of this statement by #CEDAW re #Saudi detention of Loujain al-Hathloul 👇 https://t.co/6WVIA19k…\n",
      "RT\n",
      "Positive. It's critical to allow assistance to the Iranian people in this time of crisis, but in the context of max pressure and the travel ban it might be perceived as too little too late. https://t.co/Ygi8blayiO\n",
      "Po\n",
      "RT @ahmetsyayla: @dassakaye I am reporting these numbers based on the conversations shared by considerable number of Turkish soldiers in Id…\n",
      "RT\n"
     ]
    }
   ],
   "source": [
    "result = api.user_timeline(id=2696666707, tweet_mode=\"extended\")\n",
    "for post in result:\n",
    "    print(post.full_text)\n",
    "    print(post.full_text[0:2])"
   ]
  },
  {
   "cell_type": "markdown",
   "metadata": {},
   "source": [
    "## result = api.get_status(id=1234498947554500608)\n",
    "print(result)"
   ]
  },
  {
   "cell_type": "code",
   "execution_count": 52,
   "metadata": {},
   "outputs": [
    {
     "name": "stdout",
     "output_type": "stream",
     "text": [
      "NeriZilber\n"
     ]
    }
   ],
   "source": [
    "print(result.retweeted_status.user.screen_name)"
   ]
  },
  {
   "cell_type": "code",
   "execution_count": 5,
   "metadata": {},
   "outputs": [
    {
     "ename": "RateLimitError",
     "evalue": "[{'message': 'Rate limit exceeded', 'code': 88}]",
     "output_type": "error",
     "traceback": [
      "\u001b[1;31m---------------------------------------------------------------------------\u001b[0m",
      "\u001b[1;31mRateLimitError\u001b[0m                            Traceback (most recent call last)",
      "\u001b[1;32m<ipython-input-5-11c0945867ce>\u001b[0m in \u001b[0;36m<module>\u001b[1;34m\u001b[0m\n\u001b[1;32m----> 1\u001b[1;33m \u001b[0mapi\u001b[0m\u001b[1;33m.\u001b[0m\u001b[0mfriends_ids\u001b[0m\u001b[1;33m(\u001b[0m\u001b[0mid\u001b[0m\u001b[1;33m=\u001b[0m\u001b[1;36m738191030512668673\u001b[0m\u001b[1;33m)\u001b[0m\u001b[1;33m\u001b[0m\u001b[0m\n\u001b[0m",
      "\u001b[1;32mc:\\users\\benhay\\appdata\\local\\programs\\python\\python37\\lib\\site-packages\\tweepy\\binder.py\u001b[0m in \u001b[0;36m_call\u001b[1;34m(*args, **kwargs)\u001b[0m\n\u001b[0;32m    248\u001b[0m                 \u001b[1;32mreturn\u001b[0m \u001b[0mmethod\u001b[0m\u001b[1;33m\u001b[0m\u001b[0m\n\u001b[0;32m    249\u001b[0m             \u001b[1;32melse\u001b[0m\u001b[1;33m:\u001b[0m\u001b[1;33m\u001b[0m\u001b[0m\n\u001b[1;32m--> 250\u001b[1;33m                 \u001b[1;32mreturn\u001b[0m \u001b[0mmethod\u001b[0m\u001b[1;33m.\u001b[0m\u001b[0mexecute\u001b[0m\u001b[1;33m(\u001b[0m\u001b[1;33m)\u001b[0m\u001b[1;33m\u001b[0m\u001b[0m\n\u001b[0m\u001b[0;32m    251\u001b[0m         \u001b[1;32mfinally\u001b[0m\u001b[1;33m:\u001b[0m\u001b[1;33m\u001b[0m\u001b[0m\n\u001b[0;32m    252\u001b[0m             \u001b[0mmethod\u001b[0m\u001b[1;33m.\u001b[0m\u001b[0msession\u001b[0m\u001b[1;33m.\u001b[0m\u001b[0mclose\u001b[0m\u001b[1;33m(\u001b[0m\u001b[1;33m)\u001b[0m\u001b[1;33m\u001b[0m\u001b[0m\n",
      "\u001b[1;32mc:\\users\\benhay\\appdata\\local\\programs\\python\\python37\\lib\\site-packages\\tweepy\\binder.py\u001b[0m in \u001b[0;36mexecute\u001b[1;34m(self)\u001b[0m\n\u001b[0;32m    229\u001b[0m \u001b[1;33m\u001b[0m\u001b[0m\n\u001b[0;32m    230\u001b[0m                 \u001b[1;32mif\u001b[0m \u001b[0mis_rate_limit_error_message\u001b[0m\u001b[1;33m(\u001b[0m\u001b[0merror_msg\u001b[0m\u001b[1;33m)\u001b[0m\u001b[1;33m:\u001b[0m\u001b[1;33m\u001b[0m\u001b[0m\n\u001b[1;32m--> 231\u001b[1;33m                     \u001b[1;32mraise\u001b[0m \u001b[0mRateLimitError\u001b[0m\u001b[1;33m(\u001b[0m\u001b[0merror_msg\u001b[0m\u001b[1;33m,\u001b[0m \u001b[0mresp\u001b[0m\u001b[1;33m)\u001b[0m\u001b[1;33m\u001b[0m\u001b[0m\n\u001b[0m\u001b[0;32m    232\u001b[0m                 \u001b[1;32melse\u001b[0m\u001b[1;33m:\u001b[0m\u001b[1;33m\u001b[0m\u001b[0m\n\u001b[0;32m    233\u001b[0m                     \u001b[1;32mraise\u001b[0m \u001b[0mTweepError\u001b[0m\u001b[1;33m(\u001b[0m\u001b[0merror_msg\u001b[0m\u001b[1;33m,\u001b[0m \u001b[0mresp\u001b[0m\u001b[1;33m,\u001b[0m \u001b[0mapi_code\u001b[0m\u001b[1;33m=\u001b[0m\u001b[0mapi_error_code\u001b[0m\u001b[1;33m)\u001b[0m\u001b[1;33m\u001b[0m\u001b[0m\n",
      "\u001b[1;31mRateLimitError\u001b[0m: [{'message': 'Rate limit exceeded', 'code': 88}]"
     ]
    }
   ],
   "source": [
    "api.friends_ids(id=738191030512668673)"
   ]
  },
  {
   "cell_type": "code",
   "execution_count": null,
   "metadata": {},
   "outputs": [],
   "source": []
  }
 ],
 "metadata": {
  "kernelspec": {
   "display_name": "Python 3",
   "language": "python",
   "name": "python3"
  },
  "language_info": {
   "codemirror_mode": {
    "name": "ipython",
    "version": 3
   },
   "file_extension": ".py",
   "mimetype": "text/x-python",
   "name": "python",
   "nbconvert_exporter": "python",
   "pygments_lexer": "ipython3",
   "version": "3.7.0"
  }
 },
 "nbformat": 4,
 "nbformat_minor": 4
}

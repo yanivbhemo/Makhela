{
 "cells": [
  {
   "cell_type": "code",
   "execution_count": 8,
   "metadata": {},
   "outputs": [],
   "source": [
    "import requests\n",
    "from bs4 import BeautifulSoup\n",
    "import tweepy\n",
    "import pprint"
   ]
  },
  {
   "cell_type": "code",
   "execution_count": 4,
   "metadata": {},
   "outputs": [],
   "source": [
    "## Twitter connection ##\n",
    "consumer_key = \"uPVsXcMAIZLfYtOdJ6J3aapIG\"\n",
    "consumer_secret = \"fAWhsif5q0Ik9JN9ecC3nrt4QoqA97Sp3lRb4HUfneFWBqRnns\"\n",
    "access_token = \"1231936499211436033-pQMSATHOb59HIoTXjokGuHHcFeQM6Q\"\n",
    "access_token_secret = \"pihXjLyc60oFfGXWenB48a3gg3ltt4TA3554inElnVUEY\"\n",
    "auth = tweepy.OAuthHandler(consumer_key, consumer_secret)\n",
    "auth.set_access_token(access_token, access_token_secret)\n",
    "api = tweepy.API(auth)"
   ]
  },
  {
   "cell_type": "code",
   "execution_count": null,
   "metadata": {},
   "outputs": [],
   "source": [
    "page = requests.get(url)\n",
    "soup = BeautifulSoup(page.text, 'html.parser')"
   ]
  },
  {
   "cell_type": "code",
   "execution_count": 22,
   "metadata": {},
   "outputs": [
    {
     "name": "stdout",
     "output_type": "stream",
     "text": [
      "162\n"
     ]
    },
    {
     "ename": "AttributeError",
     "evalue": "'Status' object has no attribute 'retweeted_status'",
     "output_type": "error",
     "traceback": [
      "\u001b[1;31m---------------------------------------------------------------------------\u001b[0m",
      "\u001b[1;31mAttributeError\u001b[0m                            Traceback (most recent call last)",
      "\u001b[1;32m<ipython-input-22-500f3101aedf>\u001b[0m in \u001b[0;36m<module>\u001b[1;34m\u001b[0m\n\u001b[0;32m      2\u001b[0m \u001b[1;32mfor\u001b[0m \u001b[0mitem\u001b[0m \u001b[1;32min\u001b[0m \u001b[0mresult\u001b[0m\u001b[1;33m:\u001b[0m\u001b[1;33m\u001b[0m\u001b[0m\n\u001b[0;32m      3\u001b[0m \u001b[1;31m#print(result.retweeted_status)\u001b[0m\u001b[1;33m\u001b[0m\u001b[1;33m\u001b[0m\u001b[0m\n\u001b[1;32m----> 4\u001b[1;33m     \u001b[0mprint\u001b[0m\u001b[1;33m(\u001b[0m\u001b[0mitem\u001b[0m\u001b[1;33m.\u001b[0m\u001b[0mretweeted_status\u001b[0m\u001b[1;33m.\u001b[0m\u001b[0mfavorite_count\u001b[0m\u001b[1;33m)\u001b[0m\u001b[1;33m\u001b[0m\u001b[0m\n\u001b[0m",
      "\u001b[1;31mAttributeError\u001b[0m: 'Status' object has no attribute 'retweeted_status'"
     ]
    }
   ],
   "source": [
    "result = api.user_timeline(id=2696666707, tweet_mode=\"extended\", count=2)\n",
    "for item in result:\n",
    "#print(result.retweeted_status)\n",
    "    print(item.retweeted_status.favorite_count)"
   ]
  },
  {
   "cell_type": "code",
   "execution_count": 18,
   "metadata": {},
   "outputs": [
    {
     "name": "stdout",
     "output_type": "stream",
     "text": [
      "RT @test: \n"
     ]
    }
   ],
   "source": [
    "text = \"RT @test: aaaa\"\n",
    "print(text[0:text.find(':')+2])"
   ]
  },
  {
   "cell_type": "code",
   "execution_count": 27,
   "metadata": {},
   "outputs": [
    {
     "name": "stdout",
     "output_type": "stream",
     "text": [
      "test\n"
     ]
    }
   ],
   "source": [
    "required_id = {'id': 2696666707, 'level_of_certainty': 2}\n",
    "if required_id['id'] == 2696666707:\n",
    "    print(\"test\")"
   ]
  },
  {
   "cell_type": "code",
   "execution_count": 36,
   "metadata": {},
   "outputs": [
    {
     "name": "stdout",
     "output_type": "stream",
     "text": [
      "63\n",
      "70\n"
     ]
    }
   ],
   "source": [
    "text = \"http://pbs.twimg.com/profile_images/494962622597300224/QeFwiaKH_normal.jpeg\"\n",
    "print(text.find(\"_normal.jpeg\"))\n",
    "print(text.find('.jpeg'))"
   ]
  },
  {
   "cell_type": "code",
   "execution_count": 35,
   "metadata": {},
   "outputs": [
    {
     "name": "stdout",
     "output_type": "stream",
     "text": [
      "http://pbs.twimg.com/profile_images/494962622597300224/QeFwiaKH_400x400.jpeg\n"
     ]
    }
   ],
   "source": [
    "new_text = text[0:63]+\"_400x400\"+text[70:len(text)]\n",
    "print(new_text)"
   ]
  },
  {
   "cell_type": "code",
   "execution_count": 40,
   "metadata": {},
   "outputs": [
    {
     "name": "stdout",
     "output_type": "stream",
     "text": [
      "- @michaeltanchum Yep, this applies globally. The need for truth, data and transparency as well.\n",
      "\n",
      "\n",
      "- Not surprising that countries in MENA region with poor governance and multiple domestic and regional crises may not be able to contain #CoronaVirusChallenge and are now focused on mitigation. https://t.co/xCOHRuFpLl\n",
      "\n",
      "\n",
      "- RT @ProfessorKaren: A further isolated and weakened Iran will likely lead to one outcome: political collapse and emboldening of hardliners/…\n",
      "\n",
      "\n",
      "- RT @NazaninBoniadi: Coronavirus: Iran temporarily frees 54,000 prisoners to combat spread. The US, UK &amp; other govs with citizens being held…\n",
      "\n",
      "\n",
      "- @YasFarouk These kinds of laws usually have a chilling effect on legitimate sharing of information. Hard to see how Saudi would be exception.\n",
      "\n",
      "\n",
      "- @hrome2 Not a remarkable US response if administration: 1. finds Iranian nuclear violations as helpful to doubling down on max pressure or 2. sees value in downplaying current Iranian nuclear activities b/c they challenge notion Trump Iran policy is working.\n",
      "\n",
      "\n",
      "- Thread. https://t.co/EE8iumrn2h\n",
      "\n",
      "\n",
      "- This is more likely than not to limit the sharing of helpful news about containing spread of #coronavirusmena https://t.co/ah6sOUxpbl\n",
      "\n",
      "\n",
      "- RT @NeriZilber: Israel heads to the polls for 3rd time in a year. Most expecting continued deadlock. But more likely than 4th election is a…\n",
      "\n",
      "\n",
      "- Socioeconomic challenges and gaps in Israel are critical but often ignored. Good to see these issues covered in @nytimes; they are also the priority areas for @RANDCorporation Israel Program: https://t.co/reE2oLBoXy https://t.co/JXqhAf9sme\n",
      "\n",
      "\n",
      "- RT @JeremyKonyndyk: WHERE. ARE. THE. WOMEN.\n",
      "\n",
      "\n",
      "- Horrible. https://t.co/wARGpNyhRT\n",
      "\n",
      "\n",
      "- RT @Farid_Senzai: #BREAKING: A 65-year-old resident of Santa Clara County, California, who has no known history of travel to countries hit…\n",
      "\n",
      "\n",
      "- RT @davidakaye: i endorse &amp; urge the sharing of this statement by #CEDAW re #Saudi detention of Loujain al-Hathloul 👇 https://t.co/6WVIA19k…\n",
      "\n",
      "\n",
      "- Positive. It's critical to allow assistance to the Iranian people in this time of crisis, but in the context of max pressure and the travel ban it might be perceived as too little too late. https://t.co/Ygi8blayiO\n",
      "\n",
      "\n",
      "- RT @ahmetsyayla: @dassakaye I am reporting these numbers based on the conversations shared by considerable number of Turkish soldiers in Id…\n",
      "\n",
      "\n",
      "- This is a higher estimate of Turkish military deaths than other sources are reporting. Serious escalation in the midst of humanitarian catastrophe  + Turkish threats to let more refugees flee to Europe. #Syria https://t.co/IQUYv6Ap63\n",
      "\n",
      "\n",
      "- RT @haaretzcom: “I want to see them overturn racist laws made by Netanyahu’s government – although I know that will be hard to do – and to…\n",
      "\n",
      "\n",
      "- RT @aarondmiller2: You think we were Israel’s lawyers? Move over Jack there’s a new law firm in town. https://t.co/2K6sXbWZh9\n",
      "\n",
      "\n",
      "- RT @ShibleyTelhami: Fifty former foreign ministers and leaders from across Europe: Donald Trump’s plan for the Middle East envisages an out…\n",
      "\n",
      "\n"
     ]
    }
   ],
   "source": [
    "result = api.user_timeline(id=2696666707, tweet_mode=\"extended\")\n",
    "for post in result:\n",
    "    print(\"- \" + post.full_text + \"\\n\\n\")"
   ]
  },
  {
   "cell_type": "code",
   "execution_count": 48,
   "metadata": {},
   "outputs": [
    {
     "name": "stdout",
     "output_type": "stream",
     "text": [
      "Status(_api=<tweepy.api.API object at 0x000001C549BB8550>, _json={'created_at': 'Mon Mar 02 15:20:59 +0000 2020', 'id': 1234498947554500608, 'id_str': '1234498947554500608', 'text': 'RT @NeriZilber: Israel heads to the polls for 3rd time in a year. Most expecting continued deadlock. But more likely than 4th election is a…', 'truncated': False, 'entities': {'hashtags': [], 'symbols': [], 'user_mentions': [{'screen_name': 'NeriZilber', 'name': 'Neri Zilber', 'id': 191633906, 'id_str': '191633906', 'indices': [3, 14]}], 'urls': []}, 'source': '<a href=\"http://twitter.com/download/iphone\" rel=\"nofollow\">Twitter for iPhone</a>', 'in_reply_to_status_id': None, 'in_reply_to_status_id_str': None, 'in_reply_to_user_id': None, 'in_reply_to_user_id_str': None, 'in_reply_to_screen_name': None, 'user': {'id': 2696666707, 'id_str': '2696666707', 'name': 'Dalia Dassa Kaye', 'screen_name': 'dassakaye', 'location': 'Santa Monica, CA', 'description': 'Director of the Center for Middle East Public Policy (CMEPP) at the RAND Corporation', 'url': None, 'entities': {'description': {'urls': []}}, 'protected': False, 'followers_count': 3480, 'friends_count': 401, 'listed_count': 122, 'created_at': 'Thu Jul 31 21:24:12 +0000 2014', 'favourites_count': 1356, 'utc_offset': None, 'time_zone': None, 'geo_enabled': False, 'verified': False, 'statuses_count': 3626, 'lang': None, 'contributors_enabled': False, 'is_translator': False, 'is_translation_enabled': False, 'profile_background_color': '000000', 'profile_background_image_url': 'http://abs.twimg.com/images/themes/theme1/bg.png', 'profile_background_image_url_https': 'https://abs.twimg.com/images/themes/theme1/bg.png', 'profile_background_tile': False, 'profile_image_url': 'http://pbs.twimg.com/profile_images/494962622597300224/QeFwiaKH_normal.jpeg', 'profile_image_url_https': 'https://pbs.twimg.com/profile_images/494962622597300224/QeFwiaKH_normal.jpeg', 'profile_link_color': '0785B3', 'profile_sidebar_border_color': '000000', 'profile_sidebar_fill_color': '000000', 'profile_text_color': '000000', 'profile_use_background_image': False, 'has_extended_profile': False, 'default_profile': False, 'default_profile_image': False, 'following': False, 'follow_request_sent': False, 'notifications': False, 'translator_type': 'none'}, 'geo': None, 'coordinates': None, 'place': None, 'contributors': None, 'retweeted_status': {'created_at': 'Mon Mar 02 08:11:01 +0000 2020', 'id': 1234390743873130496, 'id_str': '1234390743873130496', 'text': 'Israel heads to the polls for 3rd time in a year. Most expecting continued deadlock. But more likely than 4th elect… https://t.co/zGDoHUcMIT', 'truncated': True, 'entities': {'hashtags': [], 'symbols': [], 'user_mentions': [], 'urls': [{'url': 'https://t.co/zGDoHUcMIT', 'expanded_url': 'https://twitter.com/i/web/status/1234390743873130496', 'display_url': 'twitter.com/i/web/status/1…', 'indices': [117, 140]}]}, 'source': '<a href=\"https://mobile.twitter.com\" rel=\"nofollow\">Twitter Web App</a>', 'in_reply_to_status_id': None, 'in_reply_to_status_id_str': None, 'in_reply_to_user_id': None, 'in_reply_to_user_id_str': None, 'in_reply_to_screen_name': None, 'user': {'id': 191633906, 'id_str': '191633906', 'name': 'Neri Zilber', 'screen_name': 'NeriZilber', 'location': 'TLV', 'description': 'Journalist. Analyst. Bylines @nytimes @thedailybeast @foreignpolicy @politicomag @TheAtlantic. Senior Fellow @britainIsrael. Adjunct Fellow @WashInstitute', 'url': 'https://t.co/4I0LWMeRoz', 'entities': {'url': {'urls': [{'url': 'https://t.co/4I0LWMeRoz', 'expanded_url': 'http://www.nerizilber.com', 'display_url': 'nerizilber.com', 'indices': [0, 23]}]}, 'description': {'urls': []}}, 'protected': False, 'followers_count': 6277, 'friends_count': 1456, 'listed_count': 206, 'created_at': 'Thu Sep 16 23:16:20 +0000 2010', 'favourites_count': 5677, 'utc_offset': None, 'time_zone': None, 'geo_enabled': False, 'verified': True, 'statuses_count': 18974, 'lang': None, 'contributors_enabled': False, 'is_translator': False, 'is_translation_enabled': False, 'profile_background_color': '131516', 'profile_background_image_url': 'http://abs.twimg.com/images/themes/theme14/bg.gif', 'profile_background_image_url_https': 'https://abs.twimg.com/images/themes/theme14/bg.gif', 'profile_background_tile': True, 'profile_image_url': 'http://pbs.twimg.com/profile_images/1043422894477520896/0yVuYp1w_normal.jpg', 'profile_image_url_https': 'https://pbs.twimg.com/profile_images/1043422894477520896/0yVuYp1w_normal.jpg', 'profile_banner_url': 'https://pbs.twimg.com/profile_banners/191633906/1482935646', 'profile_link_color': '009999', 'profile_sidebar_border_color': 'EEEEEE', 'profile_sidebar_fill_color': 'EFEFEF', 'profile_text_color': '333333', 'profile_use_background_image': True, 'has_extended_profile': False, 'default_profile': False, 'default_profile_image': False, 'following': False, 'follow_request_sent': False, 'notifications': False, 'translator_type': 'none'}, 'geo': None, 'coordinates': None, 'place': None, 'contributors': None, 'is_quote_status': False, 'retweet_count': 21, 'favorite_count': 16, 'favorited': False, 'retweeted': False, 'lang': 'en'}, 'is_quote_status': False, 'retweet_count': 21, 'favorite_count': 0, 'favorited': False, 'retweeted': False, 'lang': 'en'}, created_at=datetime.datetime(2020, 3, 2, 15, 20, 59), id=1234498947554500608, id_str='1234498947554500608', text='RT @NeriZilber: Israel heads to the polls for 3rd time in a year. Most expecting continued deadlock. But more likely than 4th election is a…', truncated=False, entities={'hashtags': [], 'symbols': [], 'user_mentions': [{'screen_name': 'NeriZilber', 'name': 'Neri Zilber', 'id': 191633906, 'id_str': '191633906', 'indices': [3, 14]}], 'urls': []}, source='Twitter for iPhone', source_url='http://twitter.com/download/iphone', in_reply_to_status_id=None, in_reply_to_status_id_str=None, in_reply_to_user_id=None, in_reply_to_user_id_str=None, in_reply_to_screen_name=None, author=User(_api=<tweepy.api.API object at 0x000001C549BB8550>, _json={'id': 2696666707, 'id_str': '2696666707', 'name': 'Dalia Dassa Kaye', 'screen_name': 'dassakaye', 'location': 'Santa Monica, CA', 'description': 'Director of the Center for Middle East Public Policy (CMEPP) at the RAND Corporation', 'url': None, 'entities': {'description': {'urls': []}}, 'protected': False, 'followers_count': 3480, 'friends_count': 401, 'listed_count': 122, 'created_at': 'Thu Jul 31 21:24:12 +0000 2014', 'favourites_count': 1356, 'utc_offset': None, 'time_zone': None, 'geo_enabled': False, 'verified': False, 'statuses_count': 3626, 'lang': None, 'contributors_enabled': False, 'is_translator': False, 'is_translation_enabled': False, 'profile_background_color': '000000', 'profile_background_image_url': 'http://abs.twimg.com/images/themes/theme1/bg.png', 'profile_background_image_url_https': 'https://abs.twimg.com/images/themes/theme1/bg.png', 'profile_background_tile': False, 'profile_image_url': 'http://pbs.twimg.com/profile_images/494962622597300224/QeFwiaKH_normal.jpeg', 'profile_image_url_https': 'https://pbs.twimg.com/profile_images/494962622597300224/QeFwiaKH_normal.jpeg', 'profile_link_color': '0785B3', 'profile_sidebar_border_color': '000000', 'profile_sidebar_fill_color': '000000', 'profile_text_color': '000000', 'profile_use_background_image': False, 'has_extended_profile': False, 'default_profile': False, 'default_profile_image': False, 'following': False, 'follow_request_sent': False, 'notifications': False, 'translator_type': 'none'}, id=2696666707, id_str='2696666707', name='Dalia Dassa Kaye', screen_name='dassakaye', location='Santa Monica, CA', description='Director of the Center for Middle East Public Policy (CMEPP) at the RAND Corporation', url=None, entities={'description': {'urls': []}}, protected=False, followers_count=3480, friends_count=401, listed_count=122, created_at=datetime.datetime(2014, 7, 31, 21, 24, 12), favourites_count=1356, utc_offset=None, time_zone=None, geo_enabled=False, verified=False, statuses_count=3626, lang=None, contributors_enabled=False, is_translator=False, is_translation_enabled=False, profile_background_color='000000', profile_background_image_url='http://abs.twimg.com/images/themes/theme1/bg.png', profile_background_image_url_https='https://abs.twimg.com/images/themes/theme1/bg.png', profile_background_tile=False, profile_image_url='http://pbs.twimg.com/profile_images/494962622597300224/QeFwiaKH_normal.jpeg', profile_image_url_https='https://pbs.twimg.com/profile_images/494962622597300224/QeFwiaKH_normal.jpeg', profile_link_color='0785B3', profile_sidebar_border_color='000000', profile_sidebar_fill_color='000000', profile_text_color='000000', profile_use_background_image=False, has_extended_profile=False, default_profile=False, default_profile_image=False, following=False, follow_request_sent=False, notifications=False, translator_type='none'), user=User(_api=<tweepy.api.API object at 0x000001C549BB8550>, _json={'id': 2696666707, 'id_str': '2696666707', 'name': 'Dalia Dassa Kaye', 'screen_name': 'dassakaye', 'location': 'Santa Monica, CA', 'description': 'Director of the Center for Middle East Public Policy (CMEPP) at the RAND Corporation', 'url': None, 'entities': {'description': {'urls': []}}, 'protected': False, 'followers_count': 3480, 'friends_count': 401, 'listed_count': 122, 'created_at': 'Thu Jul 31 21:24:12 +0000 2014', 'favourites_count': 1356, 'utc_offset': None, 'time_zone': None, 'geo_enabled': False, 'verified': False, 'statuses_count': 3626, 'lang': None, 'contributors_enabled': False, 'is_translator': False, 'is_translation_enabled': False, 'profile_background_color': '000000', 'profile_background_image_url': 'http://abs.twimg.com/images/themes/theme1/bg.png', 'profile_background_image_url_https': 'https://abs.twimg.com/images/themes/theme1/bg.png', 'profile_background_tile': False, 'profile_image_url': 'http://pbs.twimg.com/profile_images/494962622597300224/QeFwiaKH_normal.jpeg', 'profile_image_url_https': 'https://pbs.twimg.com/profile_images/494962622597300224/QeFwiaKH_normal.jpeg', 'profile_link_color': '0785B3', 'profile_sidebar_border_color': '000000', 'profile_sidebar_fill_color': '000000', 'profile_text_color': '000000', 'profile_use_background_image': False, 'has_extended_profile': False, 'default_profile': False, 'default_profile_image': False, 'following': False, 'follow_request_sent': False, 'notifications': False, 'translator_type': 'none'}, id=2696666707, id_str='2696666707', name='Dalia Dassa Kaye', screen_name='dassakaye', location='Santa Monica, CA', description='Director of the Center for Middle East Public Policy (CMEPP) at the RAND Corporation', url=None, entities={'description': {'urls': []}}, protected=False, followers_count=3480, friends_count=401, listed_count=122, created_at=datetime.datetime(2014, 7, 31, 21, 24, 12), favourites_count=1356, utc_offset=None, time_zone=None, geo_enabled=False, verified=False, statuses_count=3626, lang=None, contributors_enabled=False, is_translator=False, is_translation_enabled=False, profile_background_color='000000', profile_background_image_url='http://abs.twimg.com/images/themes/theme1/bg.png', profile_background_image_url_https='https://abs.twimg.com/images/themes/theme1/bg.png', profile_background_tile=False, profile_image_url='http://pbs.twimg.com/profile_images/494962622597300224/QeFwiaKH_normal.jpeg', profile_image_url_https='https://pbs.twimg.com/profile_images/494962622597300224/QeFwiaKH_normal.jpeg', profile_link_color='0785B3', profile_sidebar_border_color='000000', profile_sidebar_fill_color='000000', profile_text_color='000000', profile_use_background_image=False, has_extended_profile=False, default_profile=False, default_profile_image=False, following=False, follow_request_sent=False, notifications=False, translator_type='none'), geo=None, coordinates=None, place=None, contributors=None, retweeted_status=Status(_api=<tweepy.api.API object at 0x000001C549BB8550>, _json={'created_at': 'Mon Mar 02 08:11:01 +0000 2020', 'id': 1234390743873130496, 'id_str': '1234390743873130496', 'text': 'Israel heads to the polls for 3rd time in a year. Most expecting continued deadlock. But more likely than 4th elect… https://t.co/zGDoHUcMIT', 'truncated': True, 'entities': {'hashtags': [], 'symbols': [], 'user_mentions': [], 'urls': [{'url': 'https://t.co/zGDoHUcMIT', 'expanded_url': 'https://twitter.com/i/web/status/1234390743873130496', 'display_url': 'twitter.com/i/web/status/1…', 'indices': [117, 140]}]}, 'source': '<a href=\"https://mobile.twitter.com\" rel=\"nofollow\">Twitter Web App</a>', 'in_reply_to_status_id': None, 'in_reply_to_status_id_str': None, 'in_reply_to_user_id': None, 'in_reply_to_user_id_str': None, 'in_reply_to_screen_name': None, 'user': {'id': 191633906, 'id_str': '191633906', 'name': 'Neri Zilber', 'screen_name': 'NeriZilber', 'location': 'TLV', 'description': 'Journalist. Analyst. Bylines @nytimes @thedailybeast @foreignpolicy @politicomag @TheAtlantic. Senior Fellow @britainIsrael. Adjunct Fellow @WashInstitute', 'url': 'https://t.co/4I0LWMeRoz', 'entities': {'url': {'urls': [{'url': 'https://t.co/4I0LWMeRoz', 'expanded_url': 'http://www.nerizilber.com', 'display_url': 'nerizilber.com', 'indices': [0, 23]}]}, 'description': {'urls': []}}, 'protected': False, 'followers_count': 6277, 'friends_count': 1456, 'listed_count': 206, 'created_at': 'Thu Sep 16 23:16:20 +0000 2010', 'favourites_count': 5677, 'utc_offset': None, 'time_zone': None, 'geo_enabled': False, 'verified': True, 'statuses_count': 18974, 'lang': None, 'contributors_enabled': False, 'is_translator': False, 'is_translation_enabled': False, 'profile_background_color': '131516', 'profile_background_image_url': 'http://abs.twimg.com/images/themes/theme14/bg.gif', 'profile_background_image_url_https': 'https://abs.twimg.com/images/themes/theme14/bg.gif', 'profile_background_tile': True, 'profile_image_url': 'http://pbs.twimg.com/profile_images/1043422894477520896/0yVuYp1w_normal.jpg', 'profile_image_url_https': 'https://pbs.twimg.com/profile_images/1043422894477520896/0yVuYp1w_normal.jpg', 'profile_banner_url': 'https://pbs.twimg.com/profile_banners/191633906/1482935646', 'profile_link_color': '009999', 'profile_sidebar_border_color': 'EEEEEE', 'profile_sidebar_fill_color': 'EFEFEF', 'profile_text_color': '333333', 'profile_use_background_image': True, 'has_extended_profile': False, 'default_profile': False, 'default_profile_image': False, 'following': False, 'follow_request_sent': False, 'notifications': False, 'translator_type': 'none'}, 'geo': None, 'coordinates': None, 'place': None, 'contributors': None, 'is_quote_status': False, 'retweet_count': 21, 'favorite_count': 16, 'favorited': False, 'retweeted': False, 'lang': 'en'}, created_at=datetime.datetime(2020, 3, 2, 8, 11, 1), id=1234390743873130496, id_str='1234390743873130496', text='Israel heads to the polls for 3rd time in a year. Most expecting continued deadlock. But more likely than 4th elect… https://t.co/zGDoHUcMIT', truncated=True, entities={'hashtags': [], 'symbols': [], 'user_mentions': [], 'urls': [{'url': 'https://t.co/zGDoHUcMIT', 'expanded_url': 'https://twitter.com/i/web/status/1234390743873130496', 'display_url': 'twitter.com/i/web/status/1…', 'indices': [117, 140]}]}, source='Twitter Web App', source_url='https://mobile.twitter.com', in_reply_to_status_id=None, in_reply_to_status_id_str=None, in_reply_to_user_id=None, in_reply_to_user_id_str=None, in_reply_to_screen_name=None, author=User(_api=<tweepy.api.API object at 0x000001C549BB8550>, _json={'id': 191633906, 'id_str': '191633906', 'name': 'Neri Zilber', 'screen_name': 'NeriZilber', 'location': 'TLV', 'description': 'Journalist. Analyst. Bylines @nytimes @thedailybeast @foreignpolicy @politicomag @TheAtlantic. Senior Fellow @britainIsrael. Adjunct Fellow @WashInstitute', 'url': 'https://t.co/4I0LWMeRoz', 'entities': {'url': {'urls': [{'url': 'https://t.co/4I0LWMeRoz', 'expanded_url': 'http://www.nerizilber.com', 'display_url': 'nerizilber.com', 'indices': [0, 23]}]}, 'description': {'urls': []}}, 'protected': False, 'followers_count': 6277, 'friends_count': 1456, 'listed_count': 206, 'created_at': 'Thu Sep 16 23:16:20 +0000 2010', 'favourites_count': 5677, 'utc_offset': None, 'time_zone': None, 'geo_enabled': False, 'verified': True, 'statuses_count': 18974, 'lang': None, 'contributors_enabled': False, 'is_translator': False, 'is_translation_enabled': False, 'profile_background_color': '131516', 'profile_background_image_url': 'http://abs.twimg.com/images/themes/theme14/bg.gif', 'profile_background_image_url_https': 'https://abs.twimg.com/images/themes/theme14/bg.gif', 'profile_background_tile': True, 'profile_image_url': 'http://pbs.twimg.com/profile_images/1043422894477520896/0yVuYp1w_normal.jpg', 'profile_image_url_https': 'https://pbs.twimg.com/profile_images/1043422894477520896/0yVuYp1w_normal.jpg', 'profile_banner_url': 'https://pbs.twimg.com/profile_banners/191633906/1482935646', 'profile_link_color': '009999', 'profile_sidebar_border_color': 'EEEEEE', 'profile_sidebar_fill_color': 'EFEFEF', 'profile_text_color': '333333', 'profile_use_background_image': True, 'has_extended_profile': False, 'default_profile': False, 'default_profile_image': False, 'following': False, 'follow_request_sent': False, 'notifications': False, 'translator_type': 'none'}, id=191633906, id_str='191633906', name='Neri Zilber', screen_name='NeriZilber', location='TLV', description='Journalist. Analyst. Bylines @nytimes @thedailybeast @foreignpolicy @politicomag @TheAtlantic. Senior Fellow @britainIsrael. Adjunct Fellow @WashInstitute', url='https://t.co/4I0LWMeRoz', entities={'url': {'urls': [{'url': 'https://t.co/4I0LWMeRoz', 'expanded_url': 'http://www.nerizilber.com', 'display_url': 'nerizilber.com', 'indices': [0, 23]}]}, 'description': {'urls': []}}, protected=False, followers_count=6277, friends_count=1456, listed_count=206, created_at=datetime.datetime(2010, 9, 16, 23, 16, 20), favourites_count=5677, utc_offset=None, time_zone=None, geo_enabled=False, verified=True, statuses_count=18974, lang=None, contributors_enabled=False, is_translator=False, is_translation_enabled=False, profile_background_color='131516', profile_background_image_url='http://abs.twimg.com/images/themes/theme14/bg.gif', profile_background_image_url_https='https://abs.twimg.com/images/themes/theme14/bg.gif', profile_background_tile=True, profile_image_url='http://pbs.twimg.com/profile_images/1043422894477520896/0yVuYp1w_normal.jpg', profile_image_url_https='https://pbs.twimg.com/profile_images/1043422894477520896/0yVuYp1w_normal.jpg', profile_banner_url='https://pbs.twimg.com/profile_banners/191633906/1482935646', profile_link_color='009999', profile_sidebar_border_color='EEEEEE', profile_sidebar_fill_color='EFEFEF', profile_text_color='333333', profile_use_background_image=True, has_extended_profile=False, default_profile=False, default_profile_image=False, following=False, follow_request_sent=False, notifications=False, translator_type='none'), user=User(_api=<tweepy.api.API object at 0x000001C549BB8550>, _json={'id': 191633906, 'id_str': '191633906', 'name': 'Neri Zilber', 'screen_name': 'NeriZilber', 'location': 'TLV', 'description': 'Journalist. Analyst. Bylines @nytimes @thedailybeast @foreignpolicy @politicomag @TheAtlantic. Senior Fellow @britainIsrael. Adjunct Fellow @WashInstitute', 'url': 'https://t.co/4I0LWMeRoz', 'entities': {'url': {'urls': [{'url': 'https://t.co/4I0LWMeRoz', 'expanded_url': 'http://www.nerizilber.com', 'display_url': 'nerizilber.com', 'indices': [0, 23]}]}, 'description': {'urls': []}}, 'protected': False, 'followers_count': 6277, 'friends_count': 1456, 'listed_count': 206, 'created_at': 'Thu Sep 16 23:16:20 +0000 2010', 'favourites_count': 5677, 'utc_offset': None, 'time_zone': None, 'geo_enabled': False, 'verified': True, 'statuses_count': 18974, 'lang': None, 'contributors_enabled': False, 'is_translator': False, 'is_translation_enabled': False, 'profile_background_color': '131516', 'profile_background_image_url': 'http://abs.twimg.com/images/themes/theme14/bg.gif', 'profile_background_image_url_https': 'https://abs.twimg.com/images/themes/theme14/bg.gif', 'profile_background_tile': True, 'profile_image_url': 'http://pbs.twimg.com/profile_images/1043422894477520896/0yVuYp1w_normal.jpg', 'profile_image_url_https': 'https://pbs.twimg.com/profile_images/1043422894477520896/0yVuYp1w_normal.jpg', 'profile_banner_url': 'https://pbs.twimg.com/profile_banners/191633906/1482935646', 'profile_link_color': '009999', 'profile_sidebar_border_color': 'EEEEEE', 'profile_sidebar_fill_color': 'EFEFEF', 'profile_text_color': '333333', 'profile_use_background_image': True, 'has_extended_profile': False, 'default_profile': False, 'default_profile_image': False, 'following': False, 'follow_request_sent': False, 'notifications': False, 'translator_type': 'none'}, id=191633906, id_str='191633906', name='Neri Zilber', screen_name='NeriZilber', location='TLV', description='Journalist. Analyst. Bylines @nytimes @thedailybeast @foreignpolicy @politicomag @TheAtlantic. Senior Fellow @britainIsrael. Adjunct Fellow @WashInstitute', url='https://t.co/4I0LWMeRoz', entities={'url': {'urls': [{'url': 'https://t.co/4I0LWMeRoz', 'expanded_url': 'http://www.nerizilber.com', 'display_url': 'nerizilber.com', 'indices': [0, 23]}]}, 'description': {'urls': []}}, protected=False, followers_count=6277, friends_count=1456, listed_count=206, created_at=datetime.datetime(2010, 9, 16, 23, 16, 20), favourites_count=5677, utc_offset=None, time_zone=None, geo_enabled=False, verified=True, statuses_count=18974, lang=None, contributors_enabled=False, is_translator=False, is_translation_enabled=False, profile_background_color='131516', profile_background_image_url='http://abs.twimg.com/images/themes/theme14/bg.gif', profile_background_image_url_https='https://abs.twimg.com/images/themes/theme14/bg.gif', profile_background_tile=True, profile_image_url='http://pbs.twimg.com/profile_images/1043422894477520896/0yVuYp1w_normal.jpg', profile_image_url_https='https://pbs.twimg.com/profile_images/1043422894477520896/0yVuYp1w_normal.jpg', profile_banner_url='https://pbs.twimg.com/profile_banners/191633906/1482935646', profile_link_color='009999', profile_sidebar_border_color='EEEEEE', profile_sidebar_fill_color='EFEFEF', profile_text_color='333333', profile_use_background_image=True, has_extended_profile=False, default_profile=False, default_profile_image=False, following=False, follow_request_sent=False, notifications=False, translator_type='none'), geo=None, coordinates=None, place=None, contributors=None, is_quote_status=False, retweet_count=21, favorite_count=16, favorited=False, retweeted=False, lang='en'), is_quote_status=False, retweet_count=21, favorite_count=0, favorited=False, retweeted=False, lang='en')\n"
     ]
    }
   ],
   "source": [
    "result = api.get_status(id=1234498947554500608)\n",
    "print(result)"
   ]
  },
  {
   "cell_type": "code",
   "execution_count": 52,
   "metadata": {},
   "outputs": [
    {
     "name": "stdout",
     "output_type": "stream",
     "text": [
      "NeriZilber\n"
     ]
    }
   ],
   "source": [
    "print(result.retweeted_status.user.screen_name)"
   ]
  },
  {
   "cell_type": "code",
   "execution_count": null,
   "metadata": {},
   "outputs": [],
   "source": []
  }
 ],
 "metadata": {
  "kernelspec": {
   "display_name": "Python 3",
   "language": "python",
   "name": "python3"
  },
  "language_info": {
   "codemirror_mode": {
    "name": "ipython",
    "version": 3
   },
   "file_extension": ".py",
   "mimetype": "text/x-python",
   "name": "python",
   "nbconvert_exporter": "python",
   "pygments_lexer": "ipython3",
   "version": "3.7.0"
  }
 },
 "nbformat": 4,
 "nbformat_minor": 4
}

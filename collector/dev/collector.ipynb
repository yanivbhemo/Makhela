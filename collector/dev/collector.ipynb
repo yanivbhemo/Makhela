{
 "cells": [
  {
   "cell_type": "code",
   "execution_count": 1,
   "metadata": {},
   "outputs": [],
   "source": [
    "import tweepy\n",
    "auth = tweepy.OAuthHandler(\"uPVsXcMAIZLfYtOdJ6J3aapIG\", \"fAWhsif5q0Ik9JN9ecC3nrt4QoqA97Sp3lRb4HUfneFWBqRnns\")\n",
    "auth.set_access_token(\"1231936499211436033-pQMSATHOb59HIoTXjokGuHHcFeQM6Q\", \"pihXjLyc60oFfGXWenB48a3gg3ltt4TA3554inElnVUEY\")\n",
    "\n",
    "api = tweepy.API(auth)"
   ]
  },
  {
   "cell_type": "code",
   "execution_count": 17,
   "metadata": {},
   "outputs": [],
   "source": [
    "profile = api.get_user(id=\"michaeltanchum\", tweet_mode=\"extended\")"
   ]
  },
  {
   "cell_type": "code",
   "execution_count": 19,
   "metadata": {},
   "outputs": [
    {
     "name": "stdout",
     "output_type": "stream",
     "text": [
      "Senior Fellow @AIES_austria Politics/Energy/Security  Mediterranean • Middle East • Arabian Peninsula • Persian Gulf |BL @ForeignPolicy et al |PhD @Harvard|تصوف\n"
     ]
    }
   ],
   "source": [
    "print(profile.description)"
   ]
  },
  {
   "cell_type": "code",
   "execution_count": 7,
   "metadata": {},
   "outputs": [
    {
     "name": "stdout",
     "output_type": "stream",
     "text": [
      "2696666707\n",
      "['rand']\n",
      "5\n",
      "942658220\n",
      "[]\n",
      "0\n"
     ]
    }
   ],
   "source": [
    "import numpy as np\n",
    "import re\n",
    "keywords=['iran', 'islamic republic', 'rand', 'iri', 'nuclear', 'jcpoa', 'joint comprehensive plan of action', 'unscr 2231', 'agreement', 'deal', 'modalities', 'terms of reference', 'tor', 'tors', 'annex', 'joint commission', 'jc', 'track 2', 'consultations', 'framework agreement', 'confidence building measures', 'cbm', 'reciprocity', 'snap-back', 'breakout', 'dismantlement', 'freeze', 'undeclared nuclear materials or activities', 'enrichment', 'conversion', 'separation', 'uf6', 'um', 'pu', 'cascade pipework', 'research reactor', 'stable isotopes', 'nuclear fuel', 'consortium', 'fuel cycle activities', 'significant quantity', 'sq', 'fissile material', 'reactor core', 'heavy water', 'hwr', 'araq', 'natanz', 'kashan', 'qom', 'fordow', 'esfahan,isfahan', 'ucf', 'nuclear facilities', 'iaea comprehensive safeguards', '93+2', 'additional protocol', 'ap', 'inspectors', 'weaponization', 't annex', 'possible military dimensions', 'pmd', 'regional activities', 'malign', 'support of terrorism', 'irgc', 'sepah', 'ballistic missiles', 'cruise missiles', 'shahab', 'qader', 'emad', 'zhulfiqar', 'irbm', 'mrbm', 'icbm', '2000 km', 'nuclear-capable', 'mtcr']\n",
    "np_kw_array = np.array(keywords)\n",
    "proposed_id = []\n",
    "level_of_certainty = 0  # scale of 0 to 10\n",
    "leaders_info = api.search_users(q=\"Dalia Kaye\")\n",
    "for leader in leaders_info:\n",
    "    print(leader.id)\n",
    "    proposed_description = leader.description.lower()\n",
    "    proposed_description = re.sub(r\"[^a-zA-Z0-9]+\", ' ', proposed_description)\n",
    "    np_description_array = np.array(proposed_description.split(' '))\n",
    "    print(np.intersect1d(np_kw_array, np_description_array))\n",
    "    if len(np.intersect1d(np_kw_array, np_description_array)) > 0:\n",
    "        level_of_certainty += 5\n",
    "    print(level_of_certainty)\n",
    "#     if leader.name == fullName_to_search:\n",
    "#         level_of_certainty += 2\n",
    "#     proposed_id.append({\"id\": leader.id, \"level_of_certainty\": level_of_certainty})\n",
    "    level_of_certainty = 0\n",
    "\n",
    "# # Check for the maximum level of certainty\n",
    "# max_level = 0\n",
    "# returned_id = [{\"id\": 0, \"level_of_certainty\": 0}]\n",
    "# for id in proposed_id:\n",
    "#     if id[\"level_of_certainty\"] > max_level:\n",
    "#         max_level = id[\"level_of_certainty\"]\n",
    "#         returned_id = id"
   ]
  },
  {
   "cell_type": "code",
   "execution_count": null,
   "metadata": {},
   "outputs": [],
   "source": []
  }
 ],
 "metadata": {
  "kernelspec": {
   "display_name": "Python 3",
   "language": "python",
   "name": "python3"
  },
  "language_info": {
   "codemirror_mode": {
    "name": "ipython",
    "version": 3
   },
   "file_extension": ".py",
   "mimetype": "text/x-python",
   "name": "python",
   "nbconvert_exporter": "python",
   "pygments_lexer": "ipython3",
   "version": "3.7.0"
  }
 },
 "nbformat": 4,
 "nbformat_minor": 4
}

{
 "cells": [
  {
   "cell_type": "code",
   "execution_count": 1,
   "metadata": {},
   "outputs": [],
   "source": [
    "import tweepy\n",
    "auth = tweepy.OAuthHandler(\"uPVsXcMAIZLfYtOdJ6J3aapIG\", \"fAWhsif5q0Ik9JN9ecC3nrt4QoqA97Sp3lRb4HUfneFWBqRnns\")\n",
    "auth.set_access_token(\"1231936499211436033-pQMSATHOb59HIoTXjokGuHHcFeQM6Q\", \"pihXjLyc60oFfGXWenB48a3gg3ltt4TA3554inElnVUEY\")\n",
    "\n",
    "api = tweepy.API(auth)"
   ]
  },
  {
   "cell_type": "code",
   "execution_count": 17,
   "metadata": {},
   "outputs": [],
   "source": [
    "profile = api.get_user(id=\"michaeltanchum\", tweet_mode=\"extended\")"
   ]
  },
  {
   "cell_type": "code",
   "execution_count": 19,
   "metadata": {},
   "outputs": [
    {
     "name": "stdout",
     "output_type": "stream",
     "text": [
      "Senior Fellow @AIES_austria Politics/Energy/Security  Mediterranean • Middle East • Arabian Peninsula • Persian Gulf |BL @ForeignPolicy et al |PhD @Harvard|تصوف\n"
     ]
    }
   ],
   "source": [
    "print(profile.description)"
   ]
  },
  {
   "cell_type": "code",
   "execution_count": 7,
   "metadata": {},
   "outputs": [
    {
     "name": "stdout",
     "output_type": "stream",
     "text": [
      "2696666707\n",
      "['rand']\n",
      "5\n",
      "942658220\n",
      "[]\n",
      "0\n"
     ]
    }
   ],
   "source": [
    "import numpy as np\n",
    "import re\n",
    "keywords=['iran', 'islamic republic', 'rand', 'iri', 'nuclear', 'jcpoa', 'joint comprehensive plan of action', 'unscr 2231', 'agreement', 'deal', 'modalities', 'terms of reference', 'tor', 'tors', 'annex', 'joint commission', 'jc', 'track 2', 'consultations', 'framework agreement', 'confidence building measures', 'cbm', 'reciprocity', 'snap-back', 'breakout', 'dismantlement', 'freeze', 'undeclared nuclear materials or activities', 'enrichment', 'conversion', 'separation', 'uf6', 'um', 'pu', 'cascade pipework', 'research reactor', 'stable isotopes', 'nuclear fuel', 'consortium', 'fuel cycle activities', 'significant quantity', 'sq', 'fissile material', 'reactor core', 'heavy water', 'hwr', 'araq', 'natanz', 'kashan', 'qom', 'fordow', 'esfahan,isfahan', 'ucf', 'nuclear facilities', 'iaea comprehensive safeguards', '93+2', 'additional protocol', 'ap', 'inspectors', 'weaponization', 't annex', 'possible military dimensions', 'pmd', 'regional activities', 'malign', 'support of terrorism', 'irgc', 'sepah', 'ballistic missiles', 'cruise missiles', 'shahab', 'qader', 'emad', 'zhulfiqar', 'irbm', 'mrbm', 'icbm', '2000 km', 'nuclear-capable', 'mtcr']\n",
    "np_kw_array = np.array(keywords)\n",
    "proposed_id = []\n",
    "level_of_certainty = 0  # scale of 0 to 10\n",
    "leaders_info = api.search_users(q=\"Dalia Kaye\")\n",
    "for leader in leaders_info:\n",
    "    print(leader.id)\n",
    "    proposed_description = leader.description.lower()\n",
    "    proposed_description = re.sub(r\"[^a-zA-Z0-9]+\", ' ', proposed_description)\n",
    "    np_description_array = np.array(proposed_description.split(' '))\n",
    "    print(np.intersect1d(np_kw_array, np_description_array))\n",
    "    if len(np.intersect1d(np_kw_array, np_description_array)) > 0:\n",
    "        level_of_certainty += 5\n",
    "    print(level_of_certainty)\n",
    "#     if leader.name == fullName_to_search:\n",
    "#         level_of_certainty += 2\n",
    "#     proposed_id.append({\"id\": leader.id, \"level_of_certainty\": level_of_certainty})\n",
    "    level_of_certainty = 0\n",
    "\n",
    "# # Check for the maximum level of certainty\n",
    "# max_level = 0\n",
    "# returned_id = [{\"id\": 0, \"level_of_certainty\": 0}]\n",
    "# for id in proposed_id:\n",
    "#     if id[\"level_of_certainty\"] > max_level:\n",
    "#         max_level = id[\"level_of_certainty\"]\n",
    "#         returned_id = id"
   ]
  },
  {
   "cell_type": "code",
   "execution_count": 10,
   "metadata": {},
   "outputs": [
    {
     "ename": "TweepError",
     "evalue": "[{'code': 144, 'message': 'No status found with that ID.'}]",
     "output_type": "error",
     "traceback": [
      "\u001b[1;31m---------------------------------------------------------------------------\u001b[0m",
      "\u001b[1;31mTweepError\u001b[0m                                Traceback (most recent call last)",
      "\u001b[1;32m<ipython-input-10-a6ca93a3241d>\u001b[0m in \u001b[0;36m<module>\u001b[1;34m\u001b[0m\n\u001b[1;32m----> 1\u001b[1;33m \u001b[0mapi\u001b[0m\u001b[1;33m.\u001b[0m\u001b[0mget_status\u001b[0m\u001b[1;33m(\u001b[0m\u001b[0mid\u001b[0m\u001b[1;33m=\u001b[0m\u001b[1;36m1242193091639021571\u001b[0m\u001b[1;33m)\u001b[0m\u001b[1;33m\u001b[0m\u001b[0m\n\u001b[0m",
      "\u001b[1;32mc:\\users\\benhay\\appdata\\local\\programs\\python\\python37\\lib\\site-packages\\tweepy\\binder.py\u001b[0m in \u001b[0;36m_call\u001b[1;34m(*args, **kwargs)\u001b[0m\n\u001b[0;32m    248\u001b[0m                 \u001b[1;32mreturn\u001b[0m \u001b[0mmethod\u001b[0m\u001b[1;33m\u001b[0m\u001b[0m\n\u001b[0;32m    249\u001b[0m             \u001b[1;32melse\u001b[0m\u001b[1;33m:\u001b[0m\u001b[1;33m\u001b[0m\u001b[0m\n\u001b[1;32m--> 250\u001b[1;33m                 \u001b[1;32mreturn\u001b[0m \u001b[0mmethod\u001b[0m\u001b[1;33m.\u001b[0m\u001b[0mexecute\u001b[0m\u001b[1;33m(\u001b[0m\u001b[1;33m)\u001b[0m\u001b[1;33m\u001b[0m\u001b[0m\n\u001b[0m\u001b[0;32m    251\u001b[0m         \u001b[1;32mfinally\u001b[0m\u001b[1;33m:\u001b[0m\u001b[1;33m\u001b[0m\u001b[0m\n\u001b[0;32m    252\u001b[0m             \u001b[0mmethod\u001b[0m\u001b[1;33m.\u001b[0m\u001b[0msession\u001b[0m\u001b[1;33m.\u001b[0m\u001b[0mclose\u001b[0m\u001b[1;33m(\u001b[0m\u001b[1;33m)\u001b[0m\u001b[1;33m\u001b[0m\u001b[0m\n",
      "\u001b[1;32mc:\\users\\benhay\\appdata\\local\\programs\\python\\python37\\lib\\site-packages\\tweepy\\binder.py\u001b[0m in \u001b[0;36mexecute\u001b[1;34m(self)\u001b[0m\n\u001b[0;32m    231\u001b[0m                     \u001b[1;32mraise\u001b[0m \u001b[0mRateLimitError\u001b[0m\u001b[1;33m(\u001b[0m\u001b[0merror_msg\u001b[0m\u001b[1;33m,\u001b[0m \u001b[0mresp\u001b[0m\u001b[1;33m)\u001b[0m\u001b[1;33m\u001b[0m\u001b[0m\n\u001b[0;32m    232\u001b[0m                 \u001b[1;32melse\u001b[0m\u001b[1;33m:\u001b[0m\u001b[1;33m\u001b[0m\u001b[0m\n\u001b[1;32m--> 233\u001b[1;33m                     \u001b[1;32mraise\u001b[0m \u001b[0mTweepError\u001b[0m\u001b[1;33m(\u001b[0m\u001b[0merror_msg\u001b[0m\u001b[1;33m,\u001b[0m \u001b[0mresp\u001b[0m\u001b[1;33m,\u001b[0m \u001b[0mapi_code\u001b[0m\u001b[1;33m=\u001b[0m\u001b[0mapi_error_code\u001b[0m\u001b[1;33m)\u001b[0m\u001b[1;33m\u001b[0m\u001b[0m\n\u001b[0m\u001b[0;32m    234\u001b[0m \u001b[1;33m\u001b[0m\u001b[0m\n\u001b[0;32m    235\u001b[0m             \u001b[1;31m# Parse the response payload\u001b[0m\u001b[1;33m\u001b[0m\u001b[1;33m\u001b[0m\u001b[0m\n",
      "\u001b[1;31mTweepError\u001b[0m: [{'code': 144, 'message': 'No status found with that ID.'}]"
     ]
    }
   ],
   "source": [
    "api.get_status(id=1242193091639021571)"
   ]
  },
  {
   "cell_type": "code",
   "execution_count": 37,
   "metadata": {},
   "outputs": [
    {
     "name": "stdout",
     "output_type": "stream",
     "text": [
      "1242389891268386816\n",
      "I am here 0\n",
      "I am here 1\n",
      "1242277841154310145\n"
     ]
    }
   ],
   "source": [
    "post = api.get_status(id=1242389891268386816, tweet_mode=\"extended\")\n",
    "in_reply_to_status_id = \"None\"\n",
    "in_reply_to_status_text = \"None\"\n",
    "in_reply_to_status_user_id = \"None\"\n",
    "quoted_status_id = \"None\"\n",
    "quoted_status_text = \"None\"\n",
    "quoted_status_user_id = \"None\"\n",
    "retweeted_status_id = \"None\"\n",
    "retweeted_status_text = \"None\"\n",
    "retweeted_status_user_id = \"None\"\n",
    "post_id = post.id\n",
    "print(post_id)\n",
    "if (post_id == 1242389891268386816):\n",
    "    post_text = post.full_text\n",
    "    date_created = post.created_at\n",
    "    print(\"I am here 0\")\n",
    "    try:\n",
    "        in_reply_to_status_id = post.in_reply_to_status_id\n",
    "        if in_reply_to_status_id != None:\n",
    "            print(\"I am here 1\")\n",
    "            print(in_reply_to_status_id)\n",
    "            in_reply_to_status_text = api.get_status(id=in_reply_to_status_id, tweet_mode=\"extended\").text\n",
    "            if in_reply_to_status_text == \"\":\n",
    "                in_reply_to_status_text = api.get_status(id=in_reply_to_status_id, tweet_mode=\"extended\").full_text\n",
    "                print(\"I am here 3\")\n",
    "            print(in_reply_to_status_text)\n",
    "            in_reply_to_status_user_id = post.in_reply_to_screen_name\n",
    "    except Exception as e:\n",
    "        pass\n",
    "\n",
    "    try:\n",
    "        quoted_status_id = post.quoted_status_id\n",
    "        print(\"test: \"+str(quoted_status_id))\n",
    "        if post_text[0:2] == \"RT\":\n",
    "            print(\"I am here 2\")\n",
    "            tweet = api.get_status(id=quoted_status_id, tweet_mode=\"extended\")\n",
    "            quoted_status_text = tweet.text\n",
    "            quoted_status_user_id = tweet.screen_name\n",
    "            print(tweet)\n",
    "        else:\n",
    "            quoted_status_text = post.quoted_status.full_text\n",
    "            quoted_status_user_id = post.quoted_status.user.screen_name\n",
    "    except Exception as e:\n",
    "        pass\n",
    "\n",
    "    try:\n",
    "        retweeted_status_id = post.retweeted_status.id\n",
    "        retweeted_status_text = post.retweeted_status.full_text\n",
    "        post_text = post_text[0:post_text.find(':') + 2]\n",
    "        post_text += post.retweeted_status.full_text\n",
    "        retweeted_status_user_id = post.retweeted_status.user.screen_name\n",
    "    except Exception as e:\n",
    "        pass"
   ]
  },
  {
   "cell_type": "code",
   "execution_count": null,
   "metadata": {},
   "outputs": [],
   "source": []
  }
 ],
 "metadata": {
  "kernelspec": {
   "display_name": "Python 3",
   "language": "python",
   "name": "python3"
  },
  "language_info": {
   "codemirror_mode": {
    "name": "ipython",
    "version": 3
   },
   "file_extension": ".py",
   "mimetype": "text/x-python",
   "name": "python",
   "nbconvert_exporter": "python",
   "pygments_lexer": "ipython3",
   "version": "3.7.0"
  }
 },
 "nbformat": 4,
 "nbformat_minor": 4
}

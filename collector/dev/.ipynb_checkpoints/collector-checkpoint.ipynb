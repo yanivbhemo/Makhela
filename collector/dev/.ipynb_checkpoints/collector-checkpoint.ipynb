{
 "cells": [
  {
   "cell_type": "code",
   "execution_count": 145,
   "metadata": {},
   "outputs": [],
   "source": [
    "import tweepy\n",
    "import json\n",
    "import requests\n",
    "import pymongo\n",
    "from pprint import pprint\n",
    "from bs4 import BeautifulSoup\n",
    "import urllib.request\n",
    "#import dnspython"
   ]
  },
  {
   "cell_type": "code",
   "execution_count": 77,
   "metadata": {},
   "outputs": [],
   "source": [
    "## Twitter connection ##\n",
    "consumer_key = \"uPVsXcMAIZLfYtOdJ6J3aapIG\"\n",
    "consumer_secret = \"fAWhsif5q0Ik9JN9ecC3nrt4QoqA97Sp3lRb4HUfneFWBqRnns\"\n",
    "access_token = \"1231936499211436033-pQMSATHOb59HIoTXjokGuHHcFeQM6Q\"\n",
    "access_token_secret = \"pihXjLyc60oFfGXWenB48a3gg3ltt4TA3554inElnVUEY\"\n",
    "auth = tweepy.OAuthHandler(consumer_key, consumer_secret)\n",
    "auth.set_access_token(access_token, access_token_secret)\n",
    "api = tweepy.API(auth)"
   ]
  },
  {
   "cell_type": "code",
   "execution_count": 78,
   "metadata": {},
   "outputs": [
    {
     "data": {
      "text/plain": [
       "[]"
      ]
     },
     "execution_count": 78,
     "metadata": {},
     "output_type": "execute_result"
    }
   ],
   "source": [
    "api.search_users(q=\"Jon B. Wolfstahl\")"
   ]
  },
  {
   "cell_type": "code",
   "execution_count": 124,
   "metadata": {},
   "outputs": [
    {
     "data": {
      "text/plain": [
       "User(_api=<tweepy.api.API object at 0x000002159D70F9E8>, _json={'id': 1231936499211436033, 'id_str': '1231936499211436033', 'name': 'Makhela', 'screen_name': 'Makhela3', 'location': '', 'profile_location': None, 'description': '', 'url': None, 'entities': {'description': {'urls': []}}, 'protected': False, 'followers_count': 0, 'friends_count': 1, 'listed_count': 0, 'created_at': 'Mon Feb 24 13:38:55 +0000 2020', 'favourites_count': 0, 'utc_offset': None, 'time_zone': None, 'geo_enabled': False, 'verified': False, 'statuses_count': 0, 'lang': None, 'contributors_enabled': False, 'is_translator': False, 'is_translation_enabled': False, 'profile_background_color': 'F5F8FA', 'profile_background_image_url': None, 'profile_background_image_url_https': None, 'profile_background_tile': False, 'profile_image_url': 'http://abs.twimg.com/sticky/default_profile_images/default_profile_normal.png', 'profile_image_url_https': 'https://abs.twimg.com/sticky/default_profile_images/default_profile_normal.png', 'profile_link_color': '1DA1F2', 'profile_sidebar_border_color': 'C0DEED', 'profile_sidebar_fill_color': 'DDEEF6', 'profile_text_color': '333333', 'profile_use_background_image': True, 'has_extended_profile': False, 'default_profile': True, 'default_profile_image': True, 'following': False, 'follow_request_sent': False, 'notifications': False, 'translator_type': 'none', 'suspended': False, 'needs_phone_verification': False}, id=1231936499211436033, id_str='1231936499211436033', name='Makhela', screen_name='Makhela3', location='', profile_location=None, description='', url=None, entities={'description': {'urls': []}}, protected=False, followers_count=0, friends_count=1, listed_count=0, created_at=datetime.datetime(2020, 2, 24, 13, 38, 55), favourites_count=0, utc_offset=None, time_zone=None, geo_enabled=False, verified=False, statuses_count=0, lang=None, contributors_enabled=False, is_translator=False, is_translation_enabled=False, profile_background_color='F5F8FA', profile_background_image_url=None, profile_background_image_url_https=None, profile_background_tile=False, profile_image_url='http://abs.twimg.com/sticky/default_profile_images/default_profile_normal.png', profile_image_url_https='https://abs.twimg.com/sticky/default_profile_images/default_profile_normal.png', profile_link_color='1DA1F2', profile_sidebar_border_color='C0DEED', profile_sidebar_fill_color='DDEEF6', profile_text_color='333333', profile_use_background_image=True, has_extended_profile=False, default_profile=True, default_profile_image=True, following=False, follow_request_sent=False, notifications=False, translator_type='none', suspended=False, needs_phone_verification=False)"
      ]
     },
     "execution_count": 124,
     "metadata": {},
     "output_type": "execute_result"
    }
   ],
   "source": [
    "api.get_user(screen_name=\"@Makhela3\")"
   ]
  },
  {
   "cell_type": "code",
   "execution_count": 125,
   "metadata": {},
   "outputs": [
    {
     "data": {
      "text/plain": [
       "User(_api=<tweepy.api.API object at 0x000002159D70F9E8>, _json={'id': 541858751, 'id_str': '541858751', 'name': 'Jon B. Wolfsthal', 'screen_name': 'JBWolfsthal', 'location': 'Arlington, VA', 'profile_location': None, 'description': 'I know a lot about nuclear weapons. Senior Advisor, Global Zero. ↙️↙️↙️ Former Senior Director, Nat’l Security Council. I won’t appear on #Manels', 'url': 'https://t.co/O00pTldNVS', 'entities': {'url': {'urls': [{'url': 'https://t.co/O00pTldNVS', 'expanded_url': 'https://www.linkedin.com/in/jon-wolfsthal-b2205837/', 'display_url': 'linkedin.com/in/jon-wolfsth…', 'indices': [0, 23]}]}, 'description': {'urls': []}}, 'protected': False, 'followers_count': 20948, 'friends_count': 2025, 'listed_count': 490, 'created_at': 'Sat Mar 31 18:09:52 +0000 2012', 'favourites_count': 20507, 'utc_offset': None, 'time_zone': None, 'geo_enabled': True, 'verified': True, 'statuses_count': 18171, 'lang': None, 'status': {'created_at': 'Sat Feb 29 16:28:08 +0000 2020', 'id': 1233791069940305920, 'id_str': '1233791069940305920', 'text': '@JeffSadosky Steak.  Uniting progressive and conservatives since forever.', 'truncated': False, 'entities': {'hashtags': [], 'symbols': [], 'user_mentions': [{'screen_name': 'JeffSadosky', 'name': 'Jeff Sadosky', 'id': 59177426, 'id_str': '59177426', 'indices': [0, 12]}], 'urls': []}, 'source': '<a href=\"https://mobile.twitter.com\" rel=\"nofollow\">Twitter Web App</a>', 'in_reply_to_status_id': 1233788117175410688, 'in_reply_to_status_id_str': '1233788117175410688', 'in_reply_to_user_id': 59177426, 'in_reply_to_user_id_str': '59177426', 'in_reply_to_screen_name': 'JeffSadosky', 'geo': None, 'coordinates': None, 'place': None, 'contributors': None, 'is_quote_status': False, 'retweet_count': 0, 'favorite_count': 0, 'favorited': False, 'retweeted': False, 'lang': 'en'}, 'contributors_enabled': False, 'is_translator': False, 'is_translation_enabled': False, 'profile_background_color': '000000', 'profile_background_image_url': 'http://abs.twimg.com/images/themes/theme1/bg.png', 'profile_background_image_url_https': 'https://abs.twimg.com/images/themes/theme1/bg.png', 'profile_background_tile': False, 'profile_image_url': 'http://pbs.twimg.com/profile_images/840612677823139843/eJKfk3-z_normal.jpg', 'profile_image_url_https': 'https://pbs.twimg.com/profile_images/840612677823139843/eJKfk3-z_normal.jpg', 'profile_banner_url': 'https://pbs.twimg.com/profile_banners/541858751/1469237279', 'profile_link_color': 'FF691F', 'profile_sidebar_border_color': '000000', 'profile_sidebar_fill_color': '000000', 'profile_text_color': '000000', 'profile_use_background_image': False, 'has_extended_profile': True, 'default_profile': False, 'default_profile_image': False, 'following': True, 'follow_request_sent': False, 'notifications': False, 'translator_type': 'none'}, id=541858751, id_str='541858751', name='Jon B. Wolfsthal', screen_name='JBWolfsthal', location='Arlington, VA', profile_location=None, description='I know a lot about nuclear weapons. Senior Advisor, Global Zero. ↙️↙️↙️ Former Senior Director, Nat’l Security Council. I won’t appear on #Manels', url='https://t.co/O00pTldNVS', entities={'url': {'urls': [{'url': 'https://t.co/O00pTldNVS', 'expanded_url': 'https://www.linkedin.com/in/jon-wolfsthal-b2205837/', 'display_url': 'linkedin.com/in/jon-wolfsth…', 'indices': [0, 23]}]}, 'description': {'urls': []}}, protected=False, followers_count=20948, friends_count=2025, listed_count=490, created_at=datetime.datetime(2012, 3, 31, 18, 9, 52), favourites_count=20507, utc_offset=None, time_zone=None, geo_enabled=True, verified=True, statuses_count=18171, lang=None, status=Status(_api=<tweepy.api.API object at 0x000002159D70F9E8>, _json={'created_at': 'Sat Feb 29 16:28:08 +0000 2020', 'id': 1233791069940305920, 'id_str': '1233791069940305920', 'text': '@JeffSadosky Steak.  Uniting progressive and conservatives since forever.', 'truncated': False, 'entities': {'hashtags': [], 'symbols': [], 'user_mentions': [{'screen_name': 'JeffSadosky', 'name': 'Jeff Sadosky', 'id': 59177426, 'id_str': '59177426', 'indices': [0, 12]}], 'urls': []}, 'source': '<a href=\"https://mobile.twitter.com\" rel=\"nofollow\">Twitter Web App</a>', 'in_reply_to_status_id': 1233788117175410688, 'in_reply_to_status_id_str': '1233788117175410688', 'in_reply_to_user_id': 59177426, 'in_reply_to_user_id_str': '59177426', 'in_reply_to_screen_name': 'JeffSadosky', 'geo': None, 'coordinates': None, 'place': None, 'contributors': None, 'is_quote_status': False, 'retweet_count': 0, 'favorite_count': 0, 'favorited': False, 'retweeted': False, 'lang': 'en'}, created_at=datetime.datetime(2020, 2, 29, 16, 28, 8), id=1233791069940305920, id_str='1233791069940305920', text='@JeffSadosky Steak.  Uniting progressive and conservatives since forever.', truncated=False, entities={'hashtags': [], 'symbols': [], 'user_mentions': [{'screen_name': 'JeffSadosky', 'name': 'Jeff Sadosky', 'id': 59177426, 'id_str': '59177426', 'indices': [0, 12]}], 'urls': []}, source='Twitter Web App', source_url='https://mobile.twitter.com', in_reply_to_status_id=1233788117175410688, in_reply_to_status_id_str='1233788117175410688', in_reply_to_user_id=59177426, in_reply_to_user_id_str='59177426', in_reply_to_screen_name='JeffSadosky', geo=None, coordinates=None, place=None, contributors=None, is_quote_status=False, retweet_count=0, favorite_count=0, favorited=False, retweeted=False, lang='en'), contributors_enabled=False, is_translator=False, is_translation_enabled=False, profile_background_color='000000', profile_background_image_url='http://abs.twimg.com/images/themes/theme1/bg.png', profile_background_image_url_https='https://abs.twimg.com/images/themes/theme1/bg.png', profile_background_tile=False, profile_image_url='http://pbs.twimg.com/profile_images/840612677823139843/eJKfk3-z_normal.jpg', profile_image_url_https='https://pbs.twimg.com/profile_images/840612677823139843/eJKfk3-z_normal.jpg', profile_banner_url='https://pbs.twimg.com/profile_banners/541858751/1469237279', profile_link_color='FF691F', profile_sidebar_border_color='000000', profile_sidebar_fill_color='000000', profile_text_color='000000', profile_use_background_image=False, has_extended_profile=True, default_profile=False, default_profile_image=False, following=True, follow_request_sent=False, notifications=False, translator_type='none')"
      ]
     },
     "execution_count": 125,
     "metadata": {},
     "output_type": "execute_result"
    }
   ],
   "source": [
    "api.get_user(screen_name=\"@JBWolfsthal\")"
   ]
  },
  {
   "cell_type": "code",
   "execution_count": 137,
   "metadata": {
    "scrolled": false
   },
   "outputs": [
    {
     "ename": "TypeError",
     "evalue": "'NoneType' object is not iterable",
     "output_type": "error",
     "traceback": [
      "\u001b[1;31m---------------------------------------------------------------------------\u001b[0m",
      "\u001b[1;31mTypeError\u001b[0m                                 Traceback (most recent call last)",
      "\u001b[1;32m<ipython-input-137-4fcecba94b39>\u001b[0m in \u001b[0;36m<module>\u001b[1;34m\u001b[0m\n\u001b[0;32m      3\u001b[0m \u001b[1;31m# spans = soup.find_all('div')\u001b[0m\u001b[1;33m\u001b[0m\u001b[1;33m\u001b[0m\u001b[0m\n\u001b[0;32m      4\u001b[0m \u001b[0minputTag\u001b[0m \u001b[1;33m=\u001b[0m \u001b[0msoup\u001b[0m\u001b[1;33m.\u001b[0m\u001b[0mfind\u001b[0m\u001b[1;33m(\u001b[0m\u001b[0mattrs\u001b[0m\u001b[1;33m=\u001b[0m\u001b[1;33m{\u001b[0m\u001b[1;34m\"name\"\u001b[0m \u001b[1;33m:\u001b[0m \u001b[1;34m\"data-testid\"\u001b[0m\u001b[1;33m}\u001b[0m\u001b[1;33m)\u001b[0m\u001b[1;33m\u001b[0m\u001b[0m\n\u001b[1;32m----> 5\u001b[1;33m \u001b[1;32mfor\u001b[0m \u001b[0mi\u001b[0m \u001b[1;32min\u001b[0m \u001b[0minputTag\u001b[0m\u001b[1;33m:\u001b[0m\u001b[1;33m\u001b[0m\u001b[0m\n\u001b[0m\u001b[0;32m      6\u001b[0m     \u001b[0mprint\u001b[0m\u001b[1;33m(\u001b[0m\u001b[0mi\u001b[0m\u001b[1;33m)\u001b[0m\u001b[1;33m\u001b[0m\u001b[0m\n\u001b[0;32m      7\u001b[0m \u001b[1;31m##output = inputTag[0]['value']\u001b[0m\u001b[1;33m\u001b[0m\u001b[1;33m\u001b[0m\u001b[0m\n",
      "\u001b[1;31mTypeError\u001b[0m: 'NoneType' object is not iterable"
     ]
    }
   ],
   "source": [
    "page = requests.get(\"https://twitter.com/search?q=Jon%20Wolfstahl&src=typed_query&f=user\")\n",
    "soup = BeautifulSoup(page.text, 'html.parser')\n",
    "# spans = soup.find_all('div')\n",
    "inputTag = soup.find(attrs={\"name\" : \"data-testid\"})\n",
    "for i in inputTag:\n",
    "    print(i)\n",
    "##output = inputTag[0]['value']\n",
    "##print(output)\n",
    "# for span in spans:\n",
    "    \n",
    "#     text_to_check = span.get_text()\n",
    "#     text_to_check = text_to_check.strip()\n",
    "#     print(text_to_check)"
   ]
  },
  {
   "cell_type": "code",
   "execution_count": 176,
   "metadata": {},
   "outputs": [
    {
     "name": "stdout",
     "output_type": "stream",
     "text": [
      "User(_api=<tweepy.api.API object at 0x000002159D70F9E8>, _json={'id': 541858751, 'id_str': '541858751', 'name': 'Jon B. Wolfsthal', 'screen_name': 'JBWolfsthal', 'location': 'Arlington, VA', 'profile_location': None, 'description': 'I know a lot about nuclear weapons. Senior Advisor, Global Zero. ↙️↙️↙️ Former Senior Director, Nat’l Security Council. I won’t appear on #Manels', 'url': 'https://t.co/O00pTldNVS', 'entities': {'url': {'urls': [{'url': 'https://t.co/O00pTldNVS', 'expanded_url': 'https://www.linkedin.com/in/jon-wolfsthal-b2205837/', 'display_url': 'linkedin.com/in/jon-wolfsth…', 'indices': [0, 23]}]}, 'description': {'urls': []}}, 'protected': False, 'followers_count': 20947, 'friends_count': 2025, 'listed_count': 490, 'created_at': 'Sat Mar 31 18:09:52 +0000 2012', 'favourites_count': 20511, 'utc_offset': None, 'time_zone': None, 'geo_enabled': True, 'verified': True, 'statuses_count': 18171, 'lang': None, 'status': {'created_at': 'Sat Feb 29 16:28:08 +0000 2020', 'id': 1233791069940305920, 'id_str': '1233791069940305920', 'text': '@JeffSadosky Steak.  Uniting progressive and conservatives since forever.', 'truncated': False, 'entities': {'hashtags': [], 'symbols': [], 'user_mentions': [{'screen_name': 'JeffSadosky', 'name': 'Jeff Sadosky', 'id': 59177426, 'id_str': '59177426', 'indices': [0, 12]}], 'urls': []}, 'source': '<a href=\"https://mobile.twitter.com\" rel=\"nofollow\">Twitter Web App</a>', 'in_reply_to_status_id': 1233788117175410688, 'in_reply_to_status_id_str': '1233788117175410688', 'in_reply_to_user_id': 59177426, 'in_reply_to_user_id_str': '59177426', 'in_reply_to_screen_name': 'JeffSadosky', 'geo': None, 'coordinates': None, 'place': None, 'contributors': None, 'is_quote_status': False, 'retweet_count': 0, 'favorite_count': 0, 'favorited': False, 'retweeted': False, 'lang': 'en'}, 'contributors_enabled': False, 'is_translator': False, 'is_translation_enabled': False, 'profile_background_color': '000000', 'profile_background_image_url': 'http://abs.twimg.com/images/themes/theme1/bg.png', 'profile_background_image_url_https': 'https://abs.twimg.com/images/themes/theme1/bg.png', 'profile_background_tile': False, 'profile_image_url': 'http://pbs.twimg.com/profile_images/840612677823139843/eJKfk3-z_normal.jpg', 'profile_image_url_https': 'https://pbs.twimg.com/profile_images/840612677823139843/eJKfk3-z_normal.jpg', 'profile_banner_url': 'https://pbs.twimg.com/profile_banners/541858751/1469237279', 'profile_link_color': 'FF691F', 'profile_sidebar_border_color': '000000', 'profile_sidebar_fill_color': '000000', 'profile_text_color': '000000', 'profile_use_background_image': False, 'has_extended_profile': True, 'default_profile': False, 'default_profile_image': False, 'following': False, 'follow_request_sent': False, 'notifications': False, 'translator_type': 'none'}, id=541858751, id_str='541858751', name='Jon B. Wolfsthal', screen_name='JBWolfsthal', location='Arlington, VA', profile_location=None, description='I know a lot about nuclear weapons. Senior Advisor, Global Zero. ↙️↙️↙️ Former Senior Director, Nat’l Security Council. I won’t appear on #Manels', url='https://t.co/O00pTldNVS', entities={'url': {'urls': [{'url': 'https://t.co/O00pTldNVS', 'expanded_url': 'https://www.linkedin.com/in/jon-wolfsthal-b2205837/', 'display_url': 'linkedin.com/in/jon-wolfsth…', 'indices': [0, 23]}]}, 'description': {'urls': []}}, protected=False, followers_count=20947, friends_count=2025, listed_count=490, created_at=datetime.datetime(2012, 3, 31, 18, 9, 52), favourites_count=20511, utc_offset=None, time_zone=None, geo_enabled=True, verified=True, statuses_count=18171, lang=None, status=Status(_api=<tweepy.api.API object at 0x000002159D70F9E8>, _json={'created_at': 'Sat Feb 29 16:28:08 +0000 2020', 'id': 1233791069940305920, 'id_str': '1233791069940305920', 'text': '@JeffSadosky Steak.  Uniting progressive and conservatives since forever.', 'truncated': False, 'entities': {'hashtags': [], 'symbols': [], 'user_mentions': [{'screen_name': 'JeffSadosky', 'name': 'Jeff Sadosky', 'id': 59177426, 'id_str': '59177426', 'indices': [0, 12]}], 'urls': []}, 'source': '<a href=\"https://mobile.twitter.com\" rel=\"nofollow\">Twitter Web App</a>', 'in_reply_to_status_id': 1233788117175410688, 'in_reply_to_status_id_str': '1233788117175410688', 'in_reply_to_user_id': 59177426, 'in_reply_to_user_id_str': '59177426', 'in_reply_to_screen_name': 'JeffSadosky', 'geo': None, 'coordinates': None, 'place': None, 'contributors': None, 'is_quote_status': False, 'retweet_count': 0, 'favorite_count': 0, 'favorited': False, 'retweeted': False, 'lang': 'en'}, created_at=datetime.datetime(2020, 2, 29, 16, 28, 8), id=1233791069940305920, id_str='1233791069940305920', text='@JeffSadosky Steak.  Uniting progressive and conservatives since forever.', truncated=False, entities={'hashtags': [], 'symbols': [], 'user_mentions': [{'screen_name': 'JeffSadosky', 'name': 'Jeff Sadosky', 'id': 59177426, 'id_str': '59177426', 'indices': [0, 12]}], 'urls': []}, source='Twitter Web App', source_url='https://mobile.twitter.com', in_reply_to_status_id=1233788117175410688, in_reply_to_status_id_str='1233788117175410688', in_reply_to_user_id=59177426, in_reply_to_user_id_str='59177426', in_reply_to_screen_name='JeffSadosky', geo=None, coordinates=None, place=None, contributors=None, is_quote_status=False, retweet_count=0, favorite_count=0, favorited=False, retweeted=False, lang='en'), contributors_enabled=False, is_translator=False, is_translation_enabled=False, profile_background_color='000000', profile_background_image_url='http://abs.twimg.com/images/themes/theme1/bg.png', profile_background_image_url_https='https://abs.twimg.com/images/themes/theme1/bg.png', profile_background_tile=False, profile_image_url='http://pbs.twimg.com/profile_images/840612677823139843/eJKfk3-z_normal.jpg', profile_image_url_https='https://pbs.twimg.com/profile_images/840612677823139843/eJKfk3-z_normal.jpg', profile_banner_url='https://pbs.twimg.com/profile_banners/541858751/1469237279', profile_link_color='FF691F', profile_sidebar_border_color='000000', profile_sidebar_fill_color='000000', profile_text_color='000000', profile_use_background_image=False, has_extended_profile=True, default_profile=False, default_profile_image=False, following=False, follow_request_sent=False, notifications=False, translator_type='none')\n"
     ]
    }
   ],
   "source": [
    "page = requests.get(\"https://twitter.com/search?q=Jon%20Wolfstahl&src=typed_query&f=user\")\n",
    "soup = BeautifulSoup(page.text, 'html.parser')\n",
    "\n",
    "for item in soup.find_all('div', class_='ProfileCard-actions'):\n",
    "    list = str(item.get_text()).replace('\\n','').split(' ')\n",
    "    print(api.get_user(screen_name=list[len(list)-1]))"
   ]
  },
  {
   "cell_type": "code",
   "execution_count": 151,
   "metadata": {},
   "outputs": [],
   "source": [
    "for item in soup.find_all('div', class_='SearchEmptyTimeline-emptyTitle'):\n",
    "    print(str(item.get_text()).replace('\\n','').split(' '))"
   ]
  },
  {
   "cell_type": "code",
   "execution_count": 66,
   "metadata": {},
   "outputs": [],
   "source": [
    "page = requests.get(\"https://twitter.com/search?q=Jon%20Wolfstahl&src=typed_query&f=user\")\n",
    "soup = BeautifulSoup(page.content, 'html.parser')\n",
    "for item in soup.find_all('div', class_='SearchEmptyTimeline-emptyTitle'):\n",
    "    print(item.get_text())"
   ]
  },
  {
   "cell_type": "code",
   "execution_count": 8,
   "metadata": {},
   "outputs": [],
   "source": []
  },
  {
   "cell_type": "code",
   "execution_count": null,
   "metadata": {},
   "outputs": [],
   "source": []
  }
 ],
 "metadata": {
  "kernelspec": {
   "display_name": "Python 3",
   "language": "python",
   "name": "python3"
  },
  "language_info": {
   "codemirror_mode": {
    "name": "ipython",
    "version": 3
   },
   "file_extension": ".py",
   "mimetype": "text/x-python",
   "name": "python",
   "nbconvert_exporter": "python",
   "pygments_lexer": "ipython3",
   "version": "3.7.0"
  }
 },
 "nbformat": 4,
 "nbformat_minor": 2
}

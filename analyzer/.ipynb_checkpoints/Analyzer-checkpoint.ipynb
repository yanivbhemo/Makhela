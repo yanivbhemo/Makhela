{
 "cells": [
  {
   "cell_type": "code",
   "execution_count": 204,
   "metadata": {},
   "outputs": [],
   "source": [
    "import requests\n",
    "import json\n",
    "import pymongo\n",
    "from pymongo import MongoClient\n",
    "import pandas as pd\n",
    "from sklearn.feature_extraction.text import TfidfVectorizer\n",
    "import nltk\n",
    "import gensim\n",
    "# from bson.objectid import ObjectId"
   ]
  },
  {
   "cell_type": "markdown",
   "metadata": {},
   "source": [
    "# Connect to db"
   ]
  },
  {
   "cell_type": "code",
   "execution_count": 205,
   "metadata": {},
   "outputs": [],
   "source": [
    "f = open(\"password.txt\", \"r\")\n",
    "pwd =  f.read()\n",
    "f.close()"
   ]
  },
  {
   "cell_type": "code",
   "execution_count": 206,
   "metadata": {},
   "outputs": [],
   "source": [
    "db_username = 'sveta'\n",
    "db_password = pwd"
   ]
  },
  {
   "cell_type": "code",
   "execution_count": 207,
   "metadata": {},
   "outputs": [],
   "source": [
    "db = MongoClient(\"mongodb+srv://\" + db_username + \":\" + db_password + \"@makhela-qvsh8.mongodb.net/Makhela\")"
   ]
  },
  {
   "cell_type": "code",
   "execution_count": 208,
   "metadata": {},
   "outputs": [],
   "source": [
    "mydb = db[\"Makhela\"]"
   ]
  },
  {
   "cell_type": "code",
   "execution_count": 209,
   "metadata": {},
   "outputs": [
    {
     "data": {
      "text/plain": [
       "['keywords', 'posts', 'opinion_leaders']"
      ]
     },
     "execution_count": 209,
     "metadata": {},
     "output_type": "execute_result"
    }
   ],
   "source": [
    "mydb.list_collection_names()"
   ]
  },
  {
   "cell_type": "markdown",
   "metadata": {},
   "source": [
    "# Opinion Leaders"
   ]
  },
  {
   "cell_type": "code",
   "execution_count": 210,
   "metadata": {},
   "outputs": [],
   "source": [
    "mycol = mydb[\"opinion_leaders\"].find()"
   ]
  },
  {
   "cell_type": "code",
   "execution_count": 211,
   "metadata": {},
   "outputs": [],
   "source": [
    "leaders = {}\n",
    "\n",
    "for leader in mycol:\n",
    "    try:\n",
    "        leaders[leader[\"twitter_id\"]] = leader\n",
    "        leader[\"posts\"] = []\n",
    "#         print(leader[\"twitter_id\"])\n",
    "    except:\n",
    "        continue"
   ]
  },
  {
   "cell_type": "code",
   "execution_count": 212,
   "metadata": {},
   "outputs": [
    {
     "data": {
      "text/plain": [
       "{'_id': ObjectId('5e4fe236f3d95c3a7b5f3b9f'),\n",
       " 'full_name': 'Dalia Dassa Kaye',\n",
       " 'twitter_id': 2696666707,\n",
       " 'twitter_screen_name': 'dassakaye',\n",
       " 'twitter_created_at': datetime.datetime(2014, 7, 31, 21, 24, 12),\n",
       " 'twitter_description': 'Director of the Center for Middle East Public Policy (CMEPP) at the RAND Corporation',\n",
       " 'twitter_followers_count': 3489,\n",
       " 'twitter_friends_count': 403,\n",
       " 'twitter_location': 'Santa Monica, CA',\n",
       " 'new_leader': False,\n",
       " 'twitter_statuses_count': 3660,\n",
       " 'level_of_certainty': 2,\n",
       " 'twitter_profile_image': 'http://pbs.twimg.com/profile_images/494962622597300224/QeFwiaKH_400x400.jpeg',\n",
       " 'community_following': [30181014,\n",
       "  22803302,\n",
       "  2759399473,\n",
       "  1227326168,\n",
       "  2190601093,\n",
       "  43380129,\n",
       "  1515812534,\n",
       "  482120066,\n",
       "  2739262472,\n",
       "  1387074108,\n",
       "  376435807,\n",
       "  49702592,\n",
       "  42176166,\n",
       "  47156708,\n",
       "  475454826,\n",
       "  48906364,\n",
       "  480678403,\n",
       "  1114663532,\n",
       "  488772327,\n",
       "  61051322,\n",
       "  541858751],\n",
       " 'lock': False,\n",
       " 'posts': []}"
      ]
     },
     "execution_count": 212,
     "metadata": {},
     "output_type": "execute_result"
    }
   ],
   "source": [
    "leaders[2696666707]"
   ]
  },
  {
   "cell_type": "code",
   "execution_count": null,
   "metadata": {},
   "outputs": [],
   "source": []
  },
  {
   "cell_type": "markdown",
   "metadata": {},
   "source": [
    "# Posts"
   ]
  },
  {
   "cell_type": "code",
   "execution_count": 213,
   "metadata": {},
   "outputs": [],
   "source": [
    "mycol = mydb[\"posts\"].find()"
   ]
  },
  {
   "cell_type": "code",
   "execution_count": 214,
   "metadata": {},
   "outputs": [],
   "source": [
    "posts = {}\n",
    "\n",
    "for post in mycol:\n",
    "    try:\n",
    "        posts[post[\"post_id\"]] = post\n",
    "    except:\n",
    "        continue"
   ]
  },
  {
   "cell_type": "code",
   "execution_count": 215,
   "metadata": {},
   "outputs": [
    {
     "data": {
      "text/plain": [
       "{'_id': ObjectId('5e6407df124e74ea22f2a87e'),\n",
       " 'leader_twitter_id': 2696666707,\n",
       " 'post_id': 1235946337331343366,\n",
       " 'full_text': '@michaeltanchum Yep, this applies globally. The need for truth, data and transparency as well.',\n",
       " 'date_created': datetime.datetime(2020, 3, 6, 15, 12, 24),\n",
       " 'in_reply_to_status_id': 1235945439180054528,\n",
       " 'in_reply_to_status_text': '@dassakaye Exactly. Never has made it more clear in the U.S. that good governance is a matter of life and death.',\n",
       " 'in_reply_to_status_user_id': 'michaeltanchum',\n",
       " 'quoted_status_id': 'None',\n",
       " 'quoted_status_text': 'None',\n",
       " 'quoted_status_user_id': 'None',\n",
       " 'retweeted_status_id': 'None',\n",
       " 'retweeted_status_text': 'None',\n",
       " 'retweeted_status_user_id': 'None',\n",
       " 'checked_for_suggestions': False}"
      ]
     },
     "execution_count": 215,
     "metadata": {},
     "output_type": "execute_result"
    }
   ],
   "source": [
    "posts[1235946337331343366]"
   ]
  },
  {
   "cell_type": "code",
   "execution_count": 216,
   "metadata": {},
   "outputs": [],
   "source": [
    "def text(dict):\n",
    "    if dict['retweeted_status_text'] != 'None':\n",
    "        return dict['retweeted_status_text']\n",
    "    elif dict['in_reply_to_status_text'] != 'None':\n",
    "        return dict['in_reply_to_status_text']\n",
    "    elif dict['quoted_status_text'] != 'None':\n",
    "        return dict['quoted_status_text']\n",
    "    else:\n",
    "        return dict['full_text']"
   ]
  },
  {
   "cell_type": "code",
   "execution_count": 217,
   "metadata": {},
   "outputs": [
    {
     "name": "stdout",
     "output_type": "stream",
     "text": [
      "LEBANON #Coronavirus Crisis:  #COVID19 spreading in a country that has not been able to buy medical supplies for 5 months. Now Lebanon's health minister says the country is no longer focused on containing the virus https://t.co/NLSSH1PSMT\n"
     ]
    }
   ],
   "source": [
    "print(text(posts[1235944924853317632]))"
   ]
  },
  {
   "cell_type": "code",
   "execution_count": 218,
   "metadata": {},
   "outputs": [],
   "source": [
    "words_from_posts = []\n",
    "for key, value in posts.items():\n",
    "    try:\n",
    "        post_row = []\n",
    "        post_row.append(key)\n",
    "        post_row.append(text(posts[key])) \n",
    "#         words_from_posts.append(text(posts[key])) \n",
    "        words_from_posts.append(post_row)\n",
    "    except:\n",
    "        continue"
   ]
  },
  {
   "cell_type": "code",
   "execution_count": 219,
   "metadata": {},
   "outputs": [
    {
     "data": {
      "text/html": [
       "<div>\n",
       "<style scoped>\n",
       "    .dataframe tbody tr th:only-of-type {\n",
       "        vertical-align: middle;\n",
       "    }\n",
       "\n",
       "    .dataframe tbody tr th {\n",
       "        vertical-align: top;\n",
       "    }\n",
       "\n",
       "    .dataframe thead th {\n",
       "        text-align: right;\n",
       "    }\n",
       "</style>\n",
       "<table border=\"1\" class=\"dataframe\">\n",
       "  <thead>\n",
       "    <tr style=\"text-align: right;\">\n",
       "      <th></th>\n",
       "      <th>0</th>\n",
       "      <th>1</th>\n",
       "    </tr>\n",
       "  </thead>\n",
       "  <tbody>\n",
       "    <tr>\n",
       "      <td>0</td>\n",
       "      <td>1235946337331343366</td>\n",
       "      <td>@dassakaye Exactly. Never has made it more cle...</td>\n",
       "    </tr>\n",
       "    <tr>\n",
       "      <td>1</td>\n",
       "      <td>1235944924853317632</td>\n",
       "      <td>LEBANON #Coronavirus Crisis:  #COVID19 spreadi...</td>\n",
       "    </tr>\n",
       "    <tr>\n",
       "      <td>2</td>\n",
       "      <td>1235938139119562754</td>\n",
       "      <td>A further isolated and weakened Iran will like...</td>\n",
       "    </tr>\n",
       "    <tr>\n",
       "      <td>3</td>\n",
       "      <td>1235161759423614977</td>\n",
       "      <td>Coronavirus: Iran temporarily frees 54,000 pri...</td>\n",
       "    </tr>\n",
       "    <tr>\n",
       "      <td>4</td>\n",
       "      <td>1234901226807939072</td>\n",
       "      <td>@dassakaye Not necessarily to be honest. #Saud...</td>\n",
       "    </tr>\n",
       "  </tbody>\n",
       "</table>\n",
       "</div>"
      ],
      "text/plain": [
       "                     0                                                  1\n",
       "0  1235946337331343366  @dassakaye Exactly. Never has made it more cle...\n",
       "1  1235944924853317632  LEBANON #Coronavirus Crisis:  #COVID19 spreadi...\n",
       "2  1235938139119562754  A further isolated and weakened Iran will like...\n",
       "3  1235161759423614977  Coronavirus: Iran temporarily frees 54,000 pri...\n",
       "4  1234901226807939072  @dassakaye Not necessarily to be honest. #Saud..."
      ]
     },
     "execution_count": 219,
     "metadata": {},
     "output_type": "execute_result"
    }
   ],
   "source": [
    "pr = pd.DataFrame(words_from_posts)\n",
    "pr.head()"
   ]
  },
  {
   "cell_type": "code",
   "execution_count": 220,
   "metadata": {},
   "outputs": [
    {
     "data": {
      "text/plain": [
       "0    @dassakaye Exactly. Never has made it more cle...\n",
       "1    LEBANON #Coronavirus Crisis:  #COVID19 spreadi...\n",
       "2    A further isolated and weakened Iran will like...\n",
       "3    Coronavirus: Iran temporarily frees 54,000 pri...\n",
       "4    @dassakaye Not necessarily to be honest. #Saud...\n",
       "Name: 1, dtype: object"
      ]
     },
     "execution_count": 220,
     "metadata": {},
     "output_type": "execute_result"
    }
   ],
   "source": [
    "pr[1].head()"
   ]
  },
  {
   "cell_type": "code",
   "execution_count": 221,
   "metadata": {},
   "outputs": [],
   "source": [
    "vectorizer = TfidfVectorizer()\n",
    "vectors = vectorizer.fit_transform(pr[1])\n",
    "feature_names = vectorizer.get_feature_names()\n",
    "dense = vectors.todense()\n",
    "denselist = dense.tolist()\n",
    "df = pd.DataFrame(denselist, columns=feature_names)"
   ]
  },
  {
   "cell_type": "code",
   "execution_count": 222,
   "metadata": {},
   "outputs": [
    {
     "data": {
      "text/html": [
       "<div>\n",
       "<style scoped>\n",
       "    .dataframe tbody tr th:only-of-type {\n",
       "        vertical-align: middle;\n",
       "    }\n",
       "\n",
       "    .dataframe tbody tr th {\n",
       "        vertical-align: top;\n",
       "    }\n",
       "\n",
       "    .dataframe thead th {\n",
       "        text-align: right;\n",
       "    }\n",
       "</style>\n",
       "<table border=\"1\" class=\"dataframe\">\n",
       "  <thead>\n",
       "    <tr style=\"text-align: right;\">\n",
       "      <th></th>\n",
       "      <th>000</th>\n",
       "      <th>00am</th>\n",
       "      <th>00q3870mh1</th>\n",
       "      <th>01</th>\n",
       "      <th>0120kg</th>\n",
       "      <th>03</th>\n",
       "      <th>035mi</th>\n",
       "      <th>03am</th>\n",
       "      <th>075</th>\n",
       "      <th>083</th>\n",
       "      <th>...</th>\n",
       "      <th>全く同感なのだが</th>\n",
       "      <th>同時にトランプ政権はきっとこの議論を理解しないだろうとも確信している</th>\n",
       "      <th>新型コロナウィルスは米国の対イラン政策の転換のチャンスという記事とその紹介連ツイ</th>\n",
       "      <th>欧州が同航空機の空域入域を拒否したからとのこと</th>\n",
       "      <th>동해상으로</th>\n",
       "      <th>미상</th>\n",
       "      <th>발사</th>\n",
       "      <th>발사체</th>\n",
       "      <th>북한</th>\n",
       "      <th>합참</th>\n",
       "    </tr>\n",
       "  </thead>\n",
       "  <tbody>\n",
       "    <tr>\n",
       "      <td>0</td>\n",
       "      <td>0.000000</td>\n",
       "      <td>0.0</td>\n",
       "      <td>0.0</td>\n",
       "      <td>0.0</td>\n",
       "      <td>0.0</td>\n",
       "      <td>0.0</td>\n",
       "      <td>0.0</td>\n",
       "      <td>0.0</td>\n",
       "      <td>0.0</td>\n",
       "      <td>0.0</td>\n",
       "      <td>...</td>\n",
       "      <td>0.0</td>\n",
       "      <td>0.0</td>\n",
       "      <td>0.0</td>\n",
       "      <td>0.0</td>\n",
       "      <td>0.0</td>\n",
       "      <td>0.0</td>\n",
       "      <td>0.0</td>\n",
       "      <td>0.0</td>\n",
       "      <td>0.0</td>\n",
       "      <td>0.0</td>\n",
       "    </tr>\n",
       "    <tr>\n",
       "      <td>1</td>\n",
       "      <td>0.000000</td>\n",
       "      <td>0.0</td>\n",
       "      <td>0.0</td>\n",
       "      <td>0.0</td>\n",
       "      <td>0.0</td>\n",
       "      <td>0.0</td>\n",
       "      <td>0.0</td>\n",
       "      <td>0.0</td>\n",
       "      <td>0.0</td>\n",
       "      <td>0.0</td>\n",
       "      <td>...</td>\n",
       "      <td>0.0</td>\n",
       "      <td>0.0</td>\n",
       "      <td>0.0</td>\n",
       "      <td>0.0</td>\n",
       "      <td>0.0</td>\n",
       "      <td>0.0</td>\n",
       "      <td>0.0</td>\n",
       "      <td>0.0</td>\n",
       "      <td>0.0</td>\n",
       "      <td>0.0</td>\n",
       "    </tr>\n",
       "    <tr>\n",
       "      <td>2</td>\n",
       "      <td>0.000000</td>\n",
       "      <td>0.0</td>\n",
       "      <td>0.0</td>\n",
       "      <td>0.0</td>\n",
       "      <td>0.0</td>\n",
       "      <td>0.0</td>\n",
       "      <td>0.0</td>\n",
       "      <td>0.0</td>\n",
       "      <td>0.0</td>\n",
       "      <td>0.0</td>\n",
       "      <td>...</td>\n",
       "      <td>0.0</td>\n",
       "      <td>0.0</td>\n",
       "      <td>0.0</td>\n",
       "      <td>0.0</td>\n",
       "      <td>0.0</td>\n",
       "      <td>0.0</td>\n",
       "      <td>0.0</td>\n",
       "      <td>0.0</td>\n",
       "      <td>0.0</td>\n",
       "      <td>0.0</td>\n",
       "    </tr>\n",
       "    <tr>\n",
       "      <td>3</td>\n",
       "      <td>0.182557</td>\n",
       "      <td>0.0</td>\n",
       "      <td>0.0</td>\n",
       "      <td>0.0</td>\n",
       "      <td>0.0</td>\n",
       "      <td>0.0</td>\n",
       "      <td>0.0</td>\n",
       "      <td>0.0</td>\n",
       "      <td>0.0</td>\n",
       "      <td>0.0</td>\n",
       "      <td>...</td>\n",
       "      <td>0.0</td>\n",
       "      <td>0.0</td>\n",
       "      <td>0.0</td>\n",
       "      <td>0.0</td>\n",
       "      <td>0.0</td>\n",
       "      <td>0.0</td>\n",
       "      <td>0.0</td>\n",
       "      <td>0.0</td>\n",
       "      <td>0.0</td>\n",
       "      <td>0.0</td>\n",
       "    </tr>\n",
       "    <tr>\n",
       "      <td>4</td>\n",
       "      <td>0.000000</td>\n",
       "      <td>0.0</td>\n",
       "      <td>0.0</td>\n",
       "      <td>0.0</td>\n",
       "      <td>0.0</td>\n",
       "      <td>0.0</td>\n",
       "      <td>0.0</td>\n",
       "      <td>0.0</td>\n",
       "      <td>0.0</td>\n",
       "      <td>0.0</td>\n",
       "      <td>...</td>\n",
       "      <td>0.0</td>\n",
       "      <td>0.0</td>\n",
       "      <td>0.0</td>\n",
       "      <td>0.0</td>\n",
       "      <td>0.0</td>\n",
       "      <td>0.0</td>\n",
       "      <td>0.0</td>\n",
       "      <td>0.0</td>\n",
       "      <td>0.0</td>\n",
       "      <td>0.0</td>\n",
       "    </tr>\n",
       "  </tbody>\n",
       "</table>\n",
       "<p>5 rows × 13577 columns</p>\n",
       "</div>"
      ],
      "text/plain": [
       "        000  00am  00q3870mh1   01  0120kg   03  035mi  03am  075  083  ...  \\\n",
       "0  0.000000   0.0         0.0  0.0     0.0  0.0    0.0   0.0  0.0  0.0  ...   \n",
       "1  0.000000   0.0         0.0  0.0     0.0  0.0    0.0   0.0  0.0  0.0  ...   \n",
       "2  0.000000   0.0         0.0  0.0     0.0  0.0    0.0   0.0  0.0  0.0  ...   \n",
       "3  0.182557   0.0         0.0  0.0     0.0  0.0    0.0   0.0  0.0  0.0  ...   \n",
       "4  0.000000   0.0         0.0  0.0     0.0  0.0    0.0   0.0  0.0  0.0  ...   \n",
       "\n",
       "   全く同感なのだが  同時にトランプ政権はきっとこの議論を理解しないだろうとも確信している  \\\n",
       "0       0.0                                 0.0   \n",
       "1       0.0                                 0.0   \n",
       "2       0.0                                 0.0   \n",
       "3       0.0                                 0.0   \n",
       "4       0.0                                 0.0   \n",
       "\n",
       "   新型コロナウィルスは米国の対イラン政策の転換のチャンスという記事とその紹介連ツイ  欧州が同航空機の空域入域を拒否したからとのこと  동해상으로  \\\n",
       "0                                       0.0                      0.0    0.0   \n",
       "1                                       0.0                      0.0    0.0   \n",
       "2                                       0.0                      0.0    0.0   \n",
       "3                                       0.0                      0.0    0.0   \n",
       "4                                       0.0                      0.0    0.0   \n",
       "\n",
       "    미상   발사  발사체   북한   합참  \n",
       "0  0.0  0.0  0.0  0.0  0.0  \n",
       "1  0.0  0.0  0.0  0.0  0.0  \n",
       "2  0.0  0.0  0.0  0.0  0.0  \n",
       "3  0.0  0.0  0.0  0.0  0.0  \n",
       "4  0.0  0.0  0.0  0.0  0.0  \n",
       "\n",
       "[5 rows x 13577 columns]"
      ]
     },
     "execution_count": 222,
     "metadata": {},
     "output_type": "execute_result"
    }
   ],
   "source": [
    "df.head()"
   ]
  },
  {
   "cell_type": "code",
   "execution_count": 223,
   "metadata": {},
   "outputs": [
    {
     "data": {
      "text/plain": [
       "2753"
      ]
     },
     "execution_count": 223,
     "metadata": {},
     "output_type": "execute_result"
    }
   ],
   "source": [
    "len(posts)"
   ]
  },
  {
   "cell_type": "code",
   "execution_count": 224,
   "metadata": {},
   "outputs": [
    {
     "data": {
      "text/plain": [
       "0.37232215252135864"
      ]
     },
     "execution_count": 224,
     "metadata": {},
     "output_type": "execute_result"
    }
   ],
   "source": [
    "df.iloc[0,:].max()"
   ]
  },
  {
   "cell_type": "code",
   "execution_count": 225,
   "metadata": {},
   "outputs": [],
   "source": [
    "words = []\n",
    "for i in range(len(df)):\n",
    "    words.append(df.iloc[i,:][df.iloc[i,:]==df.iloc[i,:].max()].index.values.tolist())"
   ]
  },
  {
   "cell_type": "code",
   "execution_count": 226,
   "metadata": {},
   "outputs": [
    {
     "data": {
      "text/plain": [
       "2753"
      ]
     },
     "execution_count": 226,
     "metadata": {},
     "output_type": "execute_result"
    }
   ],
   "source": [
    "len(words)"
   ]
  },
  {
   "cell_type": "code",
   "execution_count": 227,
   "metadata": {},
   "outputs": [],
   "source": [
    "pr['words'] = words"
   ]
  },
  {
   "cell_type": "code",
   "execution_count": 228,
   "metadata": {},
   "outputs": [
    {
     "data": {
      "text/html": [
       "<div>\n",
       "<style scoped>\n",
       "    .dataframe tbody tr th:only-of-type {\n",
       "        vertical-align: middle;\n",
       "    }\n",
       "\n",
       "    .dataframe tbody tr th {\n",
       "        vertical-align: top;\n",
       "    }\n",
       "\n",
       "    .dataframe thead th {\n",
       "        text-align: right;\n",
       "    }\n",
       "</style>\n",
       "<table border=\"1\" class=\"dataframe\">\n",
       "  <thead>\n",
       "    <tr style=\"text-align: right;\">\n",
       "      <th></th>\n",
       "      <th>0</th>\n",
       "      <th>1</th>\n",
       "      <th>words</th>\n",
       "    </tr>\n",
       "  </thead>\n",
       "  <tbody>\n",
       "    <tr>\n",
       "      <td>0</td>\n",
       "      <td>1235946337331343366</td>\n",
       "      <td>@dassakaye Exactly. Never has made it more cle...</td>\n",
       "      <td>[dassakaye]</td>\n",
       "    </tr>\n",
       "    <tr>\n",
       "      <td>1</td>\n",
       "      <td>1235944924853317632</td>\n",
       "      <td>LEBANON #Coronavirus Crisis:  #COVID19 spreadi...</td>\n",
       "      <td>[lebanon]</td>\n",
       "    </tr>\n",
       "    <tr>\n",
       "      <td>2</td>\n",
       "      <td>1235938139119562754</td>\n",
       "      <td>A further isolated and weakened Iran will like...</td>\n",
       "      <td>[emboldening, isolated, pscktckw8m]</td>\n",
       "    </tr>\n",
       "    <tr>\n",
       "      <td>3</td>\n",
       "      <td>1235161759423614977</td>\n",
       "      <td>Coronavirus: Iran temporarily frees 54,000 pri...</td>\n",
       "      <td>[ixktbh9qen, unconditional]</td>\n",
       "    </tr>\n",
       "    <tr>\n",
       "      <td>4</td>\n",
       "      <td>1234901226807939072</td>\n",
       "      <td>@dassakaye Not necessarily to be honest. #Saud...</td>\n",
       "      <td>[managem, necessarily, ph93rk6s04]</td>\n",
       "    </tr>\n",
       "  </tbody>\n",
       "</table>\n",
       "</div>"
      ],
      "text/plain": [
       "                     0                                                  1  \\\n",
       "0  1235946337331343366  @dassakaye Exactly. Never has made it more cle...   \n",
       "1  1235944924853317632  LEBANON #Coronavirus Crisis:  #COVID19 spreadi...   \n",
       "2  1235938139119562754  A further isolated and weakened Iran will like...   \n",
       "3  1235161759423614977  Coronavirus: Iran temporarily frees 54,000 pri...   \n",
       "4  1234901226807939072  @dassakaye Not necessarily to be honest. #Saud...   \n",
       "\n",
       "                                 words  \n",
       "0                          [dassakaye]  \n",
       "1                            [lebanon]  \n",
       "2  [emboldening, isolated, pscktckw8m]  \n",
       "3          [ixktbh9qen, unconditional]  \n",
       "4   [managem, necessarily, ph93rk6s04]  "
      ]
     },
     "execution_count": 228,
     "metadata": {},
     "output_type": "execute_result"
    }
   ],
   "source": [
    "pr.head()"
   ]
  },
  {
   "cell_type": "code",
   "execution_count": 229,
   "metadata": {},
   "outputs": [],
   "source": [
    "for i in range(len(pr)):\n",
    "    try:\n",
    "        posts[pr.loc[i,0]]['words'] = pr.loc[i,'words']\n",
    "    except:\n",
    "        continue\n"
   ]
  },
  {
   "cell_type": "code",
   "execution_count": 230,
   "metadata": {},
   "outputs": [],
   "source": [
    "#posts"
   ]
  },
  {
   "cell_type": "code",
   "execution_count": null,
   "metadata": {},
   "outputs": [],
   "source": []
  },
  {
   "cell_type": "code",
   "execution_count": null,
   "metadata": {},
   "outputs": [],
   "source": []
  },
  {
   "cell_type": "markdown",
   "metadata": {},
   "source": [
    "# Add posts to opinion leader"
   ]
  },
  {
   "cell_type": "code",
   "execution_count": 231,
   "metadata": {},
   "outputs": [],
   "source": [
    "for key, value in posts.items():\n",
    "    try:\n",
    "        leaders[value['leader_twitter_id']][\"posts\"].append(key)\n",
    "    except:\n",
    "        continue"
   ]
  },
  {
   "cell_type": "code",
   "execution_count": 232,
   "metadata": {},
   "outputs": [
    {
     "data": {
      "text/plain": [
       "{'_id': ObjectId('5e4fe236f3d95c3a7b5f3b9f'),\n",
       " 'full_name': 'Dalia Dassa Kaye',\n",
       " 'twitter_id': 2696666707,\n",
       " 'twitter_screen_name': 'dassakaye',\n",
       " 'twitter_created_at': datetime.datetime(2014, 7, 31, 21, 24, 12),\n",
       " 'twitter_description': 'Director of the Center for Middle East Public Policy (CMEPP) at the RAND Corporation',\n",
       " 'twitter_followers_count': 3489,\n",
       " 'twitter_friends_count': 403,\n",
       " 'twitter_location': 'Santa Monica, CA',\n",
       " 'new_leader': False,\n",
       " 'twitter_statuses_count': 3660,\n",
       " 'level_of_certainty': 2,\n",
       " 'twitter_profile_image': 'http://pbs.twimg.com/profile_images/494962622597300224/QeFwiaKH_400x400.jpeg',\n",
       " 'community_following': [30181014,\n",
       "  22803302,\n",
       "  2759399473,\n",
       "  1227326168,\n",
       "  2190601093,\n",
       "  43380129,\n",
       "  1515812534,\n",
       "  482120066,\n",
       "  2739262472,\n",
       "  1387074108,\n",
       "  376435807,\n",
       "  49702592,\n",
       "  42176166,\n",
       "  47156708,\n",
       "  475454826,\n",
       "  48906364,\n",
       "  480678403,\n",
       "  1114663532,\n",
       "  488772327,\n",
       "  61051322,\n",
       "  541858751],\n",
       " 'lock': False,\n",
       " 'posts': [1235946337331343366,\n",
       "  1235944924853317632,\n",
       "  1235938139119562754,\n",
       "  1235161759423614977,\n",
       "  1234901226807939072,\n",
       "  1234900896493912064,\n",
       "  1234899655038623744,\n",
       "  1234898234654375936,\n",
       "  1234498947554500608,\n",
       "  1234190806795218944,\n",
       "  1233968148367364097,\n",
       "  1233825820759576577,\n",
       "  1233544954120744962,\n",
       "  1233534449293373446,\n",
       "  1233460930882756608,\n",
       "  1233147244364189696,\n",
       "  1233146036111036417,\n",
       "  1233144044370313216,\n",
       "  1233089606196662272,\n",
       "  1233052100264775680,\n",
       "  1236394102721146880,\n",
       "  1236412118720638976,\n",
       "  1236411577026277376,\n",
       "  1236418283923881986,\n",
       "  1237165112080740352,\n",
       "  1237163704057131008,\n",
       "  1237162731435741185,\n",
       "  1237134870477864960,\n",
       "  1237074454334689282,\n",
       "  1237074350596952064,\n",
       "  1237035744297766912,\n",
       "  1238167053204254721,\n",
       "  1238119172128657408,\n",
       "  1237943154155741185,\n",
       "  1237939517572517888,\n",
       "  1237938601561739265,\n",
       "  1237937792254013440,\n",
       "  1237916434069512192,\n",
       "  1237915476493103104,\n",
       "  1237914667625791490,\n",
       "  1237909020138041344,\n",
       "  1237885694921469952,\n",
       "  1237880668949901313,\n",
       "  1237879557786484738,\n",
       "  1237874133553139714,\n",
       "  1237871552395243526,\n",
       "  1237869635178917895,\n",
       "  1237807778829230080,\n",
       "  1237806913976332288,\n",
       "  1237799437222555648,\n",
       "  1237797929680637953,\n",
       "  1238203868372070400,\n",
       "  1240855738777358336,\n",
       "  1240855092770701320,\n",
       "  1240847152831541249,\n",
       "  1240846713339797505,\n",
       "  1240684106368684037,\n",
       "  1240679395850768384,\n",
       "  1240668931771125760,\n",
       "  1240668526777528322,\n",
       "  1240666684811120640,\n",
       "  1240665131991715842,\n",
       "  1240494800475807744,\n",
       "  1240493747332190210,\n",
       "  1240375028035682304,\n",
       "  1240373371117776896,\n",
       "  1240323365937664000,\n",
       "  1240320985653342208,\n",
       "  1240052983510913024,\n",
       "  1239977507752783872,\n",
       "  1239976142372605955,\n",
       "  1239975947211685893,\n",
       "  1241360593560506369,\n",
       "  1241435535479955456,\n",
       "  1241435452831223809,\n",
       "  1241407075227320320,\n",
       "  1241406838500806656,\n",
       "  1241406737313193985]}"
      ]
     },
     "execution_count": 232,
     "metadata": {},
     "output_type": "execute_result"
    }
   ],
   "source": [
    "leaders[2696666707]"
   ]
  },
  {
   "cell_type": "code",
   "execution_count": null,
   "metadata": {},
   "outputs": [],
   "source": []
  },
  {
   "cell_type": "code",
   "execution_count": null,
   "metadata": {},
   "outputs": [],
   "source": []
  },
  {
   "cell_type": "markdown",
   "metadata": {},
   "source": [
    "# LDA"
   ]
  },
  {
   "cell_type": "code",
   "execution_count": 233,
   "metadata": {},
   "outputs": [],
   "source": [
    "import re\n",
    "import numpy as np\n",
    "import pandas as pd\n",
    "from pprint import pprint"
   ]
  },
  {
   "cell_type": "code",
   "execution_count": 234,
   "metadata": {},
   "outputs": [],
   "source": [
    "import gensim\n",
    "import gensim.corpora as corpora\n",
    "from gensim.utils import simple_preprocess\n",
    "from gensim.models import CoherenceModel"
   ]
  },
  {
   "cell_type": "code",
   "execution_count": 235,
   "metadata": {},
   "outputs": [],
   "source": [
    "import spacy"
   ]
  },
  {
   "cell_type": "code",
   "execution_count": 236,
   "metadata": {},
   "outputs": [],
   "source": [
    "from nltk.corpus import stopwords\n",
    "stop_words = stopwords.words('english')\n",
    "stop_words.extend(['from', 'subject', 're', 'edu', 'use'])"
   ]
  },
  {
   "cell_type": "code",
   "execution_count": 237,
   "metadata": {},
   "outputs": [],
   "source": [
    "def sent_to_words(sentences):\n",
    "    for sentence in sentences:\n",
    "        yield(gensim.utils.simple_preprocess(str(sentence), deacc=True))  # deacc=True removes punctuations"
   ]
  },
  {
   "cell_type": "code",
   "execution_count": 238,
   "metadata": {},
   "outputs": [],
   "source": [
    "# Define functions for stopwords, bigrams, trigrams and lemmatization\n",
    "def remove_stopwords(texts):\n",
    "    return [[word for word in simple_preprocess(str(doc)) if word not in stop_words] for doc in texts]\n",
    "\n",
    "def make_bigrams(texts):\n",
    "    return [bigram_mod[doc] for doc in texts]\n",
    "\n",
    "def make_trigrams(texts):\n",
    "    return [trigram_mod[bigram_mod[doc]] for doc in texts]\n",
    "\n",
    "def lemmatization(texts, allowed_postags=['NOUN', 'ADJ', 'VERB', 'ADV']):\n",
    "    \"\"\"https://spacy.io/api/annotation\"\"\"\n",
    "    texts_out = []\n",
    "    for sent in texts:\n",
    "        doc = nlp(\" \".join(sent)) \n",
    "        texts_out.append([token.lemma_ for token in doc if token.pos_ in allowed_postags])\n",
    "    return texts_out"
   ]
  },
  {
   "cell_type": "code",
   "execution_count": 239,
   "metadata": {},
   "outputs": [],
   "source": [
    "def LDA(posts_corpus):\n",
    "    df = pd.DataFrame(posts_corpus) \n",
    "    df = df.drop_duplicates()\n",
    "    df = df.rename({0: 'leader', 1: 'post'}, axis='columns')\n",
    "    \n",
    "    data = df.post.values.tolist()\n",
    "    data = [re.sub('\\s+', ' ', sent) for sent in data]\n",
    "    data = [re.sub(\"\\'\", \"\", sent) for sent in data]\n",
    "    data_words = list(sent_to_words(data))\n",
    "    \n",
    "    # Build the bigram and trigram models\n",
    "    bigram = gensim.models.Phrases(data_words, threshold=100) # higher threshold fewer phrases.\n",
    "    trigram = gensim.models.Phrases(bigram[data_words], threshold=100)  \n",
    "\n",
    "    # Faster way to get a sentence clubbed as a trigram/bigram\n",
    "    bigram_mod = gensim.models.phrases.Phraser(bigram)\n",
    "    trigram_mod = gensim.models.phrases.Phraser(trigram)\n",
    "    \n",
    "    # Remove Stop Words\n",
    "    data_words_nostops = remove_stopwords(data_words)\n",
    "\n",
    "    # Form Bigrams\n",
    "    data_words_bigrams = make_bigrams(data_words_nostops)\n",
    "\n",
    "    # Initialize spacy 'en' model, keeping only tagger component (for efficiency)\n",
    "    # python3 -m spacy download en\n",
    "    nlp = spacy.load('en', disable=['parser', 'ner'])\n",
    "\n",
    "\n",
    "    # Do lemmatization keeping only noun, adj, vb, adv\n",
    "    data_lemmatized = lemmatization(data_words_bigrams, allowed_postags=['NOUN', 'ADJ', 'VERB', 'ADV'])\n",
    "\n",
    "    # Create Dictionary\n",
    "    id2word = corpora.Dictionary(data_lemmatized)\n",
    "\n",
    "    # Create Corpus\n",
    "    texts = data_lemmatized\n",
    "\n",
    "    # Term Document Frequency\n",
    "    corpus = [id2word.doc2bow(text) for text in texts]\n",
    "\n",
    "    # Build LDA model\n",
    "    lda_model = gensim.models.ldamodel.LdaModel(corpus=corpus,\n",
    "                                               id2word=id2word,\n",
    "                                               num_topics=5, \n",
    "                                               random_state=100,\n",
    "                                               update_every=1,\n",
    "                                               chunksize=100,\n",
    "                                               passes=10,\n",
    "                                               alpha='auto',\n",
    "                                               per_word_topics=True)\n",
    "    return lda_model"
   ]
  },
  {
   "cell_type": "code",
   "execution_count": 240,
   "metadata": {},
   "outputs": [],
   "source": [
    "for key, value in leaders.items():\n",
    "    posts_corpus = []\n",
    "    try:   \n",
    "        for post in value['posts']:\n",
    "            leader_posts = []\n",
    "            leader_posts.append(key)\n",
    "            leader_posts.append(text(posts[post]))\n",
    "            posts_corpus.append(leader_posts)\n",
    "        leaders[key]['topics'] = LDA(posts_corpus).print_topics()\n",
    "    except:\n",
    "        continue"
   ]
  },
  {
   "cell_type": "code",
   "execution_count": 241,
   "metadata": {},
   "outputs": [
    {
     "data": {
      "text/plain": [
       "{'_id': ObjectId('5e4fe236f3d95c3a7b5f3b9f'),\n",
       " 'full_name': 'Dalia Dassa Kaye',\n",
       " 'twitter_id': 2696666707,\n",
       " 'twitter_screen_name': 'dassakaye',\n",
       " 'twitter_created_at': datetime.datetime(2014, 7, 31, 21, 24, 12),\n",
       " 'twitter_description': 'Director of the Center for Middle East Public Policy (CMEPP) at the RAND Corporation',\n",
       " 'twitter_followers_count': 3489,\n",
       " 'twitter_friends_count': 403,\n",
       " 'twitter_location': 'Santa Monica, CA',\n",
       " 'new_leader': False,\n",
       " 'twitter_statuses_count': 3660,\n",
       " 'level_of_certainty': 2,\n",
       " 'twitter_profile_image': 'http://pbs.twimg.com/profile_images/494962622597300224/QeFwiaKH_400x400.jpeg',\n",
       " 'community_following': [30181014,\n",
       "  22803302,\n",
       "  2759399473,\n",
       "  1227326168,\n",
       "  2190601093,\n",
       "  43380129,\n",
       "  1515812534,\n",
       "  482120066,\n",
       "  2739262472,\n",
       "  1387074108,\n",
       "  376435807,\n",
       "  49702592,\n",
       "  42176166,\n",
       "  47156708,\n",
       "  475454826,\n",
       "  48906364,\n",
       "  480678403,\n",
       "  1114663532,\n",
       "  488772327,\n",
       "  61051322,\n",
       "  541858751],\n",
       " 'lock': False,\n",
       " 'posts': [1235946337331343366,\n",
       "  1235944924853317632,\n",
       "  1235938139119562754,\n",
       "  1235161759423614977,\n",
       "  1234901226807939072,\n",
       "  1234900896493912064,\n",
       "  1234899655038623744,\n",
       "  1234898234654375936,\n",
       "  1234498947554500608,\n",
       "  1234190806795218944,\n",
       "  1233968148367364097,\n",
       "  1233825820759576577,\n",
       "  1233544954120744962,\n",
       "  1233534449293373446,\n",
       "  1233460930882756608,\n",
       "  1233147244364189696,\n",
       "  1233146036111036417,\n",
       "  1233144044370313216,\n",
       "  1233089606196662272,\n",
       "  1233052100264775680,\n",
       "  1236394102721146880,\n",
       "  1236412118720638976,\n",
       "  1236411577026277376,\n",
       "  1236418283923881986,\n",
       "  1237165112080740352,\n",
       "  1237163704057131008,\n",
       "  1237162731435741185,\n",
       "  1237134870477864960,\n",
       "  1237074454334689282,\n",
       "  1237074350596952064,\n",
       "  1237035744297766912,\n",
       "  1238167053204254721,\n",
       "  1238119172128657408,\n",
       "  1237943154155741185,\n",
       "  1237939517572517888,\n",
       "  1237938601561739265,\n",
       "  1237937792254013440,\n",
       "  1237916434069512192,\n",
       "  1237915476493103104,\n",
       "  1237914667625791490,\n",
       "  1237909020138041344,\n",
       "  1237885694921469952,\n",
       "  1237880668949901313,\n",
       "  1237879557786484738,\n",
       "  1237874133553139714,\n",
       "  1237871552395243526,\n",
       "  1237869635178917895,\n",
       "  1237807778829230080,\n",
       "  1237806913976332288,\n",
       "  1237799437222555648,\n",
       "  1237797929680637953,\n",
       "  1238203868372070400,\n",
       "  1240855738777358336,\n",
       "  1240855092770701320,\n",
       "  1240847152831541249,\n",
       "  1240846713339797505,\n",
       "  1240684106368684037,\n",
       "  1240679395850768384,\n",
       "  1240668931771125760,\n",
       "  1240668526777528322,\n",
       "  1240666684811120640,\n",
       "  1240665131991715842,\n",
       "  1240494800475807744,\n",
       "  1240493747332190210,\n",
       "  1240375028035682304,\n",
       "  1240373371117776896,\n",
       "  1240323365937664000,\n",
       "  1240320985653342208,\n",
       "  1240052983510913024,\n",
       "  1239977507752783872,\n",
       "  1239976142372605955,\n",
       "  1239975947211685893,\n",
       "  1241360593560506369,\n",
       "  1241435535479955456,\n",
       "  1241435452831223809,\n",
       "  1241407075227320320,\n",
       "  1241406838500806656,\n",
       "  1241406737313193985],\n",
       " 'topics': [(0,\n",
       "   '0.013*\"country\" + 0.013*\"crisis\" + 0.009*\"kill\" + 0.009*\"soldier\" + 0.009*\"turkish\" + 0.009*\"number\" + 0.009*\"amp\" + 0.009*\"social\" + 0.009*\"month\" + 0.009*\"virus\"'),\n",
       "  (1,\n",
       "   '0.013*\"include\" + 0.009*\"also\" + 0.009*\"say\" + 0.009*\"test\" + 0.009*\"move\" + 0.009*\"control\" + 0.005*\"co\" + 0.005*\"sanction\" + 0.005*\"many\" + 0.005*\"bad\"'),\n",
       "  (2,\n",
       "   '0.028*\"co\" + 0.010*\"https\" + 0.010*\"increase\" + 0.010*\"enrichment\" + 0.010*\"new\" + 0.010*\"effort\" + 0.010*\"home\" + 0.010*\"order\" + 0.010*\"limit\" + 0.005*\"outcome\"'),\n",
       "  (3,\n",
       "   '0.024*\"co\" + 0.015*\"world\" + 0.012*\"https\" + 0.009*\"still\" + 0.009*\"may\" + 0.009*\"military\" + 0.009*\"time\" + 0.007*\"source\" + 0.007*\"virus\" + 0.007*\"tell\"'),\n",
       "  (4,\n",
       "   '0.018*\"co\" + 0.012*\"country\" + 0.012*\"get\" + 0.012*\"think\" + 0.009*\"health\" + 0.009*\"home\" + 0.009*\"urge\" + 0.009*\"test\" + 0.006*\"week\" + 0.006*\"crisis\"')]}"
      ]
     },
     "execution_count": 241,
     "metadata": {},
     "output_type": "execute_result"
    }
   ],
   "source": [
    "leaders[2696666707]"
   ]
  },
  {
   "cell_type": "code",
   "execution_count": null,
   "metadata": {},
   "outputs": [],
   "source": []
  },
  {
   "cell_type": "code",
   "execution_count": 242,
   "metadata": {},
   "outputs": [],
   "source": [
    "# Compute Perplexity\n",
    "# print('\\nPerplexity: ', lda_model.log_perplexity(corpus))  # a measure of how good the model is. lower the better."
   ]
  },
  {
   "cell_type": "code",
   "execution_count": 243,
   "metadata": {},
   "outputs": [],
   "source": [
    "\n",
    "# Compute Coherence Score\n",
    "# coherence_model_lda = CoherenceModel(model=lda_model, texts=data_lemmatized, dictionary=id2word, coherence='c_v')\n",
    "# coherence_lda = coherence_model_lda.get_coherence()\n",
    "# print('\\nCoherence Score: ', coherence_lda)"
   ]
  },
  {
   "cell_type": "code",
   "execution_count": null,
   "metadata": {},
   "outputs": [],
   "source": []
  },
  {
   "cell_type": "code",
   "execution_count": null,
   "metadata": {},
   "outputs": [],
   "source": []
  },
  {
   "cell_type": "code",
   "execution_count": null,
   "metadata": {},
   "outputs": [],
   "source": []
  },
  {
   "cell_type": "code",
   "execution_count": null,
   "metadata": {},
   "outputs": [],
   "source": []
  },
  {
   "cell_type": "markdown",
   "metadata": {},
   "source": [
    "# Neo4j"
   ]
  },
  {
   "cell_type": "code",
   "execution_count": 50,
   "metadata": {},
   "outputs": [],
   "source": [
    "# len(G)"
   ]
  },
  {
   "cell_type": "code",
   "execution_count": 51,
   "metadata": {},
   "outputs": [],
   "source": [
    "# G.nodes"
   ]
  },
  {
   "cell_type": "code",
   "execution_count": 52,
   "metadata": {},
   "outputs": [],
   "source": [
    "# list(G.nodes(data=True))"
   ]
  },
  {
   "cell_type": "code",
   "execution_count": 53,
   "metadata": {},
   "outputs": [],
   "source": [
    "# list(G.edges())"
   ]
  },
  {
   "cell_type": "code",
   "execution_count": 54,
   "metadata": {},
   "outputs": [],
   "source": [
    "# import matplotlib.pyplot as plt"
   ]
  },
  {
   "cell_type": "code",
   "execution_count": 55,
   "metadata": {},
   "outputs": [],
   "source": [
    "# Gr = nx.cycle_graph(G)\n",
    "# pos = nx.circular_layout(Gr)\n",
    "\n",
    "# # nx.draw_networkx_nodes(G, pos, node_size=150, node_color='blue', alpha=0.3)\n",
    "# # nx.draw_networkx_edges(G, pos, width=2, alpha=0.3, edge_color='green')\n",
    "# # nx.draw_networkx_labels(G, pos, font_size=12, font_family='sans-serif')\n",
    "# # # # default\n",
    "# # plt.figure(1)\n",
    "# # smaller nodes and fonts\n",
    "# # plt.figure(2)\n",
    "# # larger figure size\n",
    "# # nx.draw(G,pos,node_size=60,font_size=8) \n",
    "# plt.figure(figsize=(12,12)) \n",
    "# nx.draw(G,pos,node_size=60)\n",
    "# plt.show()\n",
    "# # # plt.savefig('data.png')  "
   ]
  },
  {
   "cell_type": "code",
   "execution_count": null,
   "metadata": {},
   "outputs": [],
   "source": []
  },
  {
   "cell_type": "code",
   "execution_count": 56,
   "metadata": {},
   "outputs": [],
   "source": [
    "# print(nx.is_strongly_connected(G))"
   ]
  },
  {
   "cell_type": "code",
   "execution_count": 57,
   "metadata": {},
   "outputs": [],
   "source": [
    "# isolated = nx.isolates(G)"
   ]
  },
  {
   "cell_type": "code",
   "execution_count": 58,
   "metadata": {},
   "outputs": [],
   "source": [
    "# for i in isolated:\n",
    "#     G.remove_node(i)"
   ]
  },
  {
   "cell_type": "code",
   "execution_count": 59,
   "metadata": {},
   "outputs": [],
   "source": [
    "# nx.center(G)"
   ]
  },
  {
   "cell_type": "code",
   "execution_count": 60,
   "metadata": {},
   "outputs": [],
   "source": [
    "# nx.periphery(G)"
   ]
  },
  {
   "cell_type": "code",
   "execution_count": 61,
   "metadata": {},
   "outputs": [],
   "source": [
    "# degree_centrality = nx.degree_centrality(G)"
   ]
  },
  {
   "cell_type": "code",
   "execution_count": 62,
   "metadata": {},
   "outputs": [],
   "source": [
    "# degree_centrality"
   ]
  },
  {
   "cell_type": "code",
   "execution_count": 63,
   "metadata": {},
   "outputs": [],
   "source": [
    "# centrality_values = []\n",
    "# for key, value in degree_centrality.items():\n",
    "#     centrality_values.append([key, value])"
   ]
  },
  {
   "cell_type": "code",
   "execution_count": 64,
   "metadata": {},
   "outputs": [],
   "source": [
    "# centrality_values"
   ]
  },
  {
   "cell_type": "code",
   "execution_count": 65,
   "metadata": {},
   "outputs": [],
   "source": [
    "# centrality_values.sort(key=lambda x: x[1], reverse=True)"
   ]
  },
  {
   "cell_type": "code",
   "execution_count": 66,
   "metadata": {},
   "outputs": [],
   "source": [
    "# centrality_values"
   ]
  },
  {
   "cell_type": "code",
   "execution_count": 67,
   "metadata": {},
   "outputs": [],
   "source": [
    "# for leader in centrality_values[:5]:\n",
    "#     print(leaders[leader[0]])"
   ]
  },
  {
   "cell_type": "code",
   "execution_count": 68,
   "metadata": {},
   "outputs": [],
   "source": [
    "# for leader in centrality_values[-5:]:\n",
    "#     print(leaders[leader[0]])"
   ]
  },
  {
   "cell_type": "code",
   "execution_count": null,
   "metadata": {},
   "outputs": [],
   "source": []
  },
  {
   "cell_type": "markdown",
   "metadata": {},
   "source": [
    "# Graph Neo4j"
   ]
  },
  {
   "cell_type": "code",
   "execution_count": 154,
   "metadata": {},
   "outputs": [],
   "source": [
    "from py2neo import Graph, Node, Relationship\n",
    "# from bottle import get, run, request, response, static_file"
   ]
  },
  {
   "cell_type": "code",
   "execution_count": 145,
   "metadata": {},
   "outputs": [],
   "source": [
    "graph = Graph(password = pwd)"
   ]
  },
  {
   "cell_type": "code",
   "execution_count": 199,
   "metadata": {},
   "outputs": [],
   "source": [
    "for key, value in leaders.items():\n",
    "    graph.create(Node(\"Leader\",\n",
    "                id=key,\n",
    "                full_name=value['full_name'],\n",
    "                twitter_screen_name=value['twitter_screen_name'],\n",
    "                twitter_created_at=value[\"twitter_created_at\"],\n",
    "                twitter_description=value[\"twitter_description\"]))"
   ]
  },
  {
   "cell_type": "code",
   "execution_count": null,
   "metadata": {},
   "outputs": [],
   "source": [
    "for key, value in leaders.items():\n",
    "    try:\n",
    "        existing_u1 = graph.nodes.match(\"Leader\", id=key).first()\n",
    "        for follower in value[\"community_following\"]:\n",
    "            existing_u2 = graph.nodes.match(\"Leader\", id=follower).first()\n",
    "            try:\n",
    "                graph.create(Relationship(existing_u1, 'FOLLOWS', existing_u2))\n",
    "            except:\n",
    "                print(key, follower)\n",
    "    except:\n",
    "        continue\n",
    "\n",
    "    "
   ]
  },
  {
   "cell_type": "code",
   "execution_count": 246,
   "metadata": {},
   "outputs": [],
   "source": [
    "for key, value in posts.items():\n",
    "    graph.create(Node(\"Post\",\n",
    "                id=key,\n",
    "                full_text=value['full_text'],\n",
    "                date_created=value['date_created'],\n",
    "                words=value[\"words\"]))"
   ]
  },
  {
   "cell_type": "code",
   "execution_count": 247,
   "metadata": {},
   "outputs": [],
   "source": [
    "for key, value in leaders.items():\n",
    "    try:\n",
    "        existing_u1 = graph.nodes.match(\"Leader\", id=key).first()\n",
    "        for post in value[\"posts\"]:\n",
    "            existing_u2 = graph.nodes.match(\"Post\", id=post).first()\n",
    "            try:\n",
    "                graph.create(Relationship(existing_u1, 'TWEETED', existing_u2))\n",
    "            except:\n",
    "                print(key, post)\n",
    "    except:\n",
    "        continue\n"
   ]
  },
  {
   "cell_type": "code",
   "execution_count": 248,
   "metadata": {},
   "outputs": [],
   "source": [
    "# RETWEETED???"
   ]
  },
  {
   "cell_type": "code",
   "execution_count": null,
   "metadata": {},
   "outputs": [],
   "source": []
  }
 ],
 "metadata": {
  "kernelspec": {
   "display_name": "Python 3",
   "language": "python",
   "name": "python3"
  },
  "language_info": {
   "codemirror_mode": {
    "name": "ipython",
    "version": 3
   },
   "file_extension": ".py",
   "mimetype": "text/x-python",
   "name": "python",
   "nbconvert_exporter": "python",
   "pygments_lexer": "ipython3",
   "version": "3.7.4"
  }
 },
 "nbformat": 4,
 "nbformat_minor": 2
}
